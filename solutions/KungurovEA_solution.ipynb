{
 "cells": [
  {
   "cell_type": "markdown",
   "id": "automatic-medicine",
   "metadata": {},
   "source": [
    "# Курсовой проект по кусрсу \"Библиотеки Python для Data Science: продолжение\""
   ]
  },
  {
   "cell_type": "markdown",
   "id": "acquired-monaco",
   "metadata": {},
   "source": [
    "## **1. Постановка задачи**"
   ]
  },
  {
   "cell_type": "markdown",
   "id": "nervous-switzerland",
   "metadata": {},
   "source": [
    "#### **Задача:**\n",
    "\n",
    "Требуется, на основании имеющихся данных о клиентах банка, построить модель, используя обучающий датасет, для прогнозирования невыполнения долговых обязательств по текущему кредиту. Выполнить прогноз для примеров из тестового датасета."
   ]
  },
  {
   "cell_type": "markdown",
   "id": "mighty-belfast",
   "metadata": {},
   "source": [
    "#### **Наименование файлов с данными:**\n",
    "\n",
    "##### **course_project_train.csv** - обучающий датасет\n",
    "##### **course_project_test.csv** - тестовый датасет\n",
    "\n"
   ]
  },
  {
   "cell_type": "markdown",
   "id": "ordinary-secretary",
   "metadata": {},
   "source": [
    "#### **Целевая переменная:**\n",
    "\n",
    "Credit Default - факт невыполнения кредитных обязательств"
   ]
  },
  {
   "cell_type": "markdown",
   "id": "little-vietnam",
   "metadata": {},
   "source": [
    "#### **Метрика качества:**\n",
    "\n",
    "F1-score (sklearn.metrics.f1_score)\n",
    "\n"
   ]
  },
  {
   "cell_type": "markdown",
   "id": "concerned-spoke",
   "metadata": {},
   "source": [
    "#### **Подключение библиотек и скриптов:**"
   ]
  },
  {
   "cell_type": "code",
   "execution_count": 1,
   "id": "signal-cycle",
   "metadata": {},
   "outputs": [],
   "source": [
    "import numpy as np\n",
    "import pandas as pd\n",
    "\n",
    "import matplotlib\n",
    "import matplotlib.pyplot as plt\n",
    "import seaborn as sns\n",
    "# import pickle\n",
    "import xgboost as xgb\n",
    "import catboost as catb\n",
    "import lightgbm as lgbm\n",
    "# import scipy.stats as stats\n",
    "\n",
    "\n",
    "from sklearn.model_selection import train_test_split # , ShuffleSplit, cross_val_score, learning_curve\n",
    "from sklearn.metrics import classification_report # , f1_score, precision_score, recall_score\n",
    "from sklearn.model_selection import StratifiedKFold, GridSearchCV # , RandomizedSearchCV\n",
    "#  from sklearn.ensemble import RandomForestClassifier\n",
    "\n",
    "from sklearn.linear_model import LogisticRegression # , LogisticRegressionCV\n",
    "# from sklearn.svm import SVC\n",
    "\n",
    "from sklearn.preprocessing import StandardScaler # MinMaxScaler\n",
    "from sklearn.model_selection import train_test_split # , ShuffleSplit, cross_val_score, learning_curve\n",
    "from sklearn.model_selection import KFold, GridSearchCV # , RandomizedSearchCV\n",
    "\n",
    "from sklearn.neighbors import KNeighborsClassifier\n",
    "\n",
    "from xgboost import XGBClassifier\n",
    "from catboost import CatBoostClassifier # , CatBoostRegressor, Pool\n",
    "\n",
    "# from pathlib import Path\n",
    "\n",
    "# from scipy.stats import shapiro\n",
    "# from scipy.stats import probplot\n",
    "# from scipy.stats import mannwhitneyu\n",
    "# from scipy.stats import chi2_contingency\n",
    "\n",
    "# import statsmodels.api as sm\n",
    "# from statsmodels.formula.api import ols\n",
    "\n",
    "import warnings\n",
    "warnings.simplefilter('ignore')\n",
    "warnings.filterwarnings('ignore')\n",
    "\n",
    "%matplotlib inline"
   ]
  },
  {
   "cell_type": "code",
   "execution_count": 2,
   "id": "demographic-feedback",
   "metadata": {},
   "outputs": [],
   "source": [
    "def reduce_mem_usage(df):\n",
    "    \"\"\" Modify the data type to reduce memory usage. \"\"\"\n",
    "    start_memory = df.memory_usage().sum() / 1024**2\n",
    "    print(f'Dataframe memory usage: {round(start_memory, 2)} MB')\n",
    "    \n",
    "    for col in df.columns:\n",
    "        col_type = df[col].dtype\n",
    "        \n",
    "        if col_type != object:\n",
    "            c_max = df[col].max()\n",
    "            \n",
    "            if str(col_type)[:3] == 'int':            \n",
    "                if c_max < np.iinfo(np.int8).max:\n",
    "                    df[col] = df[col].astype(np.int8)\n",
    "                elif c_max < np.iinfo(np.int16).max:\n",
    "                    df[col] = df[col].astype(np.int16)\n",
    "                elif c_max < np.iinfo(np.int32).max:\n",
    "                    df[col] = df[col].astype(np.int32)\n",
    "                else:\n",
    "                    df[col] = df[col].astype(np.int64)\n",
    "            else:\n",
    "                if c_max < np.finfo(np.float32).max:\n",
    "                    df[col] = df[col].astype(np.float32)\n",
    "                else:\n",
    "                    df[col] = df[col].astype(np.float64)\n",
    "        else:\n",
    "            df[col] = df[col].astype('category')\n",
    "            \n",
    "    finish_memory = df.memory_usage().sum() / 1024**2\n",
    "    print(f'Memory usage after optimization: {round(finish_memory, 2)} MB')\n",
    "    \n",
    "    return df"
   ]
  },
  {
   "cell_type": "code",
   "execution_count": 3,
   "id": "continued-invitation",
   "metadata": {},
   "outputs": [],
   "source": [
    "def get_classification_report(y_train_true, y_train_pred, y_test_true, y_test_pred):\n",
    "    print('TRAIN\\n\\n' + classification_report(y_train_true, y_train_pred))\n",
    "    print('TEST\\n\\n' + classification_report(y_test_true, y_test_pred))\n",
    "    print('CONFUSION MATRIX\\n')\n",
    "    print(pd.crosstab(y_test_true, y_test_pred))"
   ]
  },
  {
   "cell_type": "code",
   "execution_count": 4,
   "id": "collect-multimedia",
   "metadata": {},
   "outputs": [],
   "source": [
    "def balance_df_by_target(df, target_name):\n",
    "\n",
    "    target_counts = df[target_name].value_counts()\n",
    "\n",
    "    major_class_name = target_counts.argmax()\n",
    "    minor_class_name = target_counts.argmin()\n",
    "\n",
    "    disbalance_coeff = int(target_counts[major_class_name] / target_counts[minor_class_name]) - 1\n",
    "\n",
    "    for i in range(disbalance_coeff):\n",
    "        sample = df[df[target_name] == minor_class_name].sample(target_counts[minor_class_name])\n",
    "        df = df.append(sample, ignore_index=True)\n",
    "\n",
    "    return df.sample(frac=1)"
   ]
  },
  {
   "cell_type": "markdown",
   "id": "passive-newark",
   "metadata": {},
   "source": [
    "#### **Пути к файлам:**"
   ]
  },
  {
   "cell_type": "code",
   "execution_count": 5,
   "id": "personalized-crystal",
   "metadata": {},
   "outputs": [],
   "source": [
    "TRAIN_DATASET_PATH = 'course_project_train.csv'\n",
    "TEST_DATASET_PATH = 'course_project_test.csv'"
   ]
  },
  {
   "cell_type": "markdown",
   "id": "posted-modern",
   "metadata": {},
   "source": [
    "## **2. Получение baseline.**"
   ]
  },
  {
   "cell_type": "markdown",
   "id": "preliminary-helmet",
   "metadata": {},
   "source": [
    "### **Загрузка данных и обзор датасета.**"
   ]
  },
  {
   "cell_type": "markdown",
   "id": "organized-bathroom",
   "metadata": {},
   "source": [
    "#### **Описание датасета:**\n",
    "\n",
    "* **Home Ownership** - домовладение\n",
    "* **Annual Income** - годовой доход\n",
    "* **Years in current job** - количество лет на текущем месте работы\n",
    "* **Tax Liens** - налоговые обременения\n",
    "* **Number of Open Accounts** - количество открытых счетов\n",
    "* **Years of Credit History** - количество лет кредитной истории\n",
    "* **Maximum Open Credit** - наибольший открытый кредит\n",
    "* **Number of Credit Problems** - количество проблем с кредитом\n",
    "* **Months since last delinquent** - количество месяцев с последней просрочки платежа\n",
    "* **Bankruptcies** - банкротства\n",
    "* **Purpose** - цель кредита\n",
    "* **Term** - срок кредита\n",
    "* **Current Loan Amount** - текущая сумма кредита\n",
    "* **Current Credit Balance** - текущий кредитный баланс\n",
    "* **Monthly Debt** - ежемесячный долг\n",
    "* **Credit Default** - факт невыполнения кредитных обязательств (0 - погашен вовремя, 1 - просрочка)"
   ]
  },
  {
   "cell_type": "code",
   "execution_count": 6,
   "id": "widespread-database",
   "metadata": {},
   "outputs": [
    {
     "data": {
      "text/html": [
       "<div>\n",
       "<style scoped>\n",
       "    .dataframe tbody tr th:only-of-type {\n",
       "        vertical-align: middle;\n",
       "    }\n",
       "\n",
       "    .dataframe tbody tr th {\n",
       "        vertical-align: top;\n",
       "    }\n",
       "\n",
       "    .dataframe thead th {\n",
       "        text-align: right;\n",
       "    }\n",
       "</style>\n",
       "<table border=\"1\" class=\"dataframe\">\n",
       "  <thead>\n",
       "    <tr style=\"text-align: right;\">\n",
       "      <th></th>\n",
       "      <th>Home Ownership</th>\n",
       "      <th>Annual Income</th>\n",
       "      <th>Years in current job</th>\n",
       "      <th>Tax Liens</th>\n",
       "      <th>Number of Open Accounts</th>\n",
       "      <th>Years of Credit History</th>\n",
       "      <th>Maximum Open Credit</th>\n",
       "      <th>Number of Credit Problems</th>\n",
       "      <th>Months since last delinquent</th>\n",
       "      <th>Bankruptcies</th>\n",
       "      <th>Purpose</th>\n",
       "      <th>Term</th>\n",
       "      <th>Current Loan Amount</th>\n",
       "      <th>Current Credit Balance</th>\n",
       "      <th>Monthly Debt</th>\n",
       "      <th>Credit Score</th>\n",
       "      <th>Credit Default</th>\n",
       "    </tr>\n",
       "  </thead>\n",
       "  <tbody>\n",
       "    <tr>\n",
       "      <th>0</th>\n",
       "      <td>Own Home</td>\n",
       "      <td>482087.0</td>\n",
       "      <td>NaN</td>\n",
       "      <td>0.0</td>\n",
       "      <td>11.0</td>\n",
       "      <td>26.3</td>\n",
       "      <td>685960.0</td>\n",
       "      <td>1.0</td>\n",
       "      <td>NaN</td>\n",
       "      <td>1.0</td>\n",
       "      <td>debt consolidation</td>\n",
       "      <td>Short Term</td>\n",
       "      <td>99999999.0</td>\n",
       "      <td>47386.0</td>\n",
       "      <td>7914.0</td>\n",
       "      <td>749.0</td>\n",
       "      <td>0</td>\n",
       "    </tr>\n",
       "    <tr>\n",
       "      <th>1</th>\n",
       "      <td>Own Home</td>\n",
       "      <td>1025487.0</td>\n",
       "      <td>10+ years</td>\n",
       "      <td>0.0</td>\n",
       "      <td>15.0</td>\n",
       "      <td>15.3</td>\n",
       "      <td>1181730.0</td>\n",
       "      <td>0.0</td>\n",
       "      <td>NaN</td>\n",
       "      <td>0.0</td>\n",
       "      <td>debt consolidation</td>\n",
       "      <td>Long Term</td>\n",
       "      <td>264968.0</td>\n",
       "      <td>394972.0</td>\n",
       "      <td>18373.0</td>\n",
       "      <td>737.0</td>\n",
       "      <td>1</td>\n",
       "    </tr>\n",
       "    <tr>\n",
       "      <th>2</th>\n",
       "      <td>Home Mortgage</td>\n",
       "      <td>751412.0</td>\n",
       "      <td>8 years</td>\n",
       "      <td>0.0</td>\n",
       "      <td>11.0</td>\n",
       "      <td>35.0</td>\n",
       "      <td>1182434.0</td>\n",
       "      <td>0.0</td>\n",
       "      <td>NaN</td>\n",
       "      <td>0.0</td>\n",
       "      <td>debt consolidation</td>\n",
       "      <td>Short Term</td>\n",
       "      <td>99999999.0</td>\n",
       "      <td>308389.0</td>\n",
       "      <td>13651.0</td>\n",
       "      <td>742.0</td>\n",
       "      <td>0</td>\n",
       "    </tr>\n",
       "    <tr>\n",
       "      <th>3</th>\n",
       "      <td>Own Home</td>\n",
       "      <td>805068.0</td>\n",
       "      <td>6 years</td>\n",
       "      <td>0.0</td>\n",
       "      <td>8.0</td>\n",
       "      <td>22.5</td>\n",
       "      <td>147400.0</td>\n",
       "      <td>1.0</td>\n",
       "      <td>NaN</td>\n",
       "      <td>1.0</td>\n",
       "      <td>debt consolidation</td>\n",
       "      <td>Short Term</td>\n",
       "      <td>121396.0</td>\n",
       "      <td>95855.0</td>\n",
       "      <td>11338.0</td>\n",
       "      <td>694.0</td>\n",
       "      <td>0</td>\n",
       "    </tr>\n",
       "    <tr>\n",
       "      <th>4</th>\n",
       "      <td>Rent</td>\n",
       "      <td>776264.0</td>\n",
       "      <td>8 years</td>\n",
       "      <td>0.0</td>\n",
       "      <td>13.0</td>\n",
       "      <td>13.6</td>\n",
       "      <td>385836.0</td>\n",
       "      <td>1.0</td>\n",
       "      <td>NaN</td>\n",
       "      <td>0.0</td>\n",
       "      <td>debt consolidation</td>\n",
       "      <td>Short Term</td>\n",
       "      <td>125840.0</td>\n",
       "      <td>93309.0</td>\n",
       "      <td>7180.0</td>\n",
       "      <td>719.0</td>\n",
       "      <td>0</td>\n",
       "    </tr>\n",
       "  </tbody>\n",
       "</table>\n",
       "</div>"
      ],
      "text/plain": [
       "  Home Ownership  Annual Income Years in current job  Tax Liens  \\\n",
       "0       Own Home       482087.0                  NaN        0.0   \n",
       "1       Own Home      1025487.0            10+ years        0.0   \n",
       "2  Home Mortgage       751412.0              8 years        0.0   \n",
       "3       Own Home       805068.0              6 years        0.0   \n",
       "4           Rent       776264.0              8 years        0.0   \n",
       "\n",
       "   Number of Open Accounts  Years of Credit History  Maximum Open Credit  \\\n",
       "0                     11.0                     26.3             685960.0   \n",
       "1                     15.0                     15.3            1181730.0   \n",
       "2                     11.0                     35.0            1182434.0   \n",
       "3                      8.0                     22.5             147400.0   \n",
       "4                     13.0                     13.6             385836.0   \n",
       "\n",
       "   Number of Credit Problems  Months since last delinquent  Bankruptcies  \\\n",
       "0                        1.0                           NaN           1.0   \n",
       "1                        0.0                           NaN           0.0   \n",
       "2                        0.0                           NaN           0.0   \n",
       "3                        1.0                           NaN           1.0   \n",
       "4                        1.0                           NaN           0.0   \n",
       "\n",
       "              Purpose        Term  Current Loan Amount  \\\n",
       "0  debt consolidation  Short Term           99999999.0   \n",
       "1  debt consolidation   Long Term             264968.0   \n",
       "2  debt consolidation  Short Term           99999999.0   \n",
       "3  debt consolidation  Short Term             121396.0   \n",
       "4  debt consolidation  Short Term             125840.0   \n",
       "\n",
       "   Current Credit Balance  Monthly Debt  Credit Score  Credit Default  \n",
       "0                 47386.0        7914.0         749.0               0  \n",
       "1                394972.0       18373.0         737.0               1  \n",
       "2                308389.0       13651.0         742.0               0  \n",
       "3                 95855.0       11338.0         694.0               0  \n",
       "4                 93309.0        7180.0         719.0               0  "
      ]
     },
     "execution_count": 6,
     "metadata": {},
     "output_type": "execute_result"
    }
   ],
   "source": [
    "train_df = pd.read_csv(TRAIN_DATASET_PATH)\n",
    "train_df.head()"
   ]
  },
  {
   "cell_type": "code",
   "execution_count": 7,
   "id": "cardiovascular-sailing",
   "metadata": {},
   "outputs": [
    {
     "data": {
      "text/plain": [
       "(7500, 17)"
      ]
     },
     "execution_count": 7,
     "metadata": {},
     "output_type": "execute_result"
    }
   ],
   "source": [
    "train_df.shape"
   ]
  },
  {
   "cell_type": "code",
   "execution_count": 8,
   "id": "constant-things",
   "metadata": {},
   "outputs": [
    {
     "name": "stdout",
     "output_type": "stream",
     "text": [
      "<class 'pandas.core.frame.DataFrame'>\n",
      "RangeIndex: 7500 entries, 0 to 7499\n",
      "Data columns (total 17 columns):\n",
      " #   Column                        Non-Null Count  Dtype  \n",
      "---  ------                        --------------  -----  \n",
      " 0   Home Ownership                7500 non-null   object \n",
      " 1   Annual Income                 5943 non-null   float64\n",
      " 2   Years in current job          7129 non-null   object \n",
      " 3   Tax Liens                     7500 non-null   float64\n",
      " 4   Number of Open Accounts       7500 non-null   float64\n",
      " 5   Years of Credit History       7500 non-null   float64\n",
      " 6   Maximum Open Credit           7500 non-null   float64\n",
      " 7   Number of Credit Problems     7500 non-null   float64\n",
      " 8   Months since last delinquent  3419 non-null   float64\n",
      " 9   Bankruptcies                  7486 non-null   float64\n",
      " 10  Purpose                       7500 non-null   object \n",
      " 11  Term                          7500 non-null   object \n",
      " 12  Current Loan Amount           7500 non-null   float64\n",
      " 13  Current Credit Balance        7500 non-null   float64\n",
      " 14  Monthly Debt                  7500 non-null   float64\n",
      " 15  Credit Score                  5943 non-null   float64\n",
      " 16  Credit Default                7500 non-null   int64  \n",
      "dtypes: float64(12), int64(1), object(4)\n",
      "memory usage: 996.2+ KB\n"
     ]
    }
   ],
   "source": [
    "train_df.info()"
   ]
  },
  {
   "cell_type": "markdown",
   "id": "unlikely-stress",
   "metadata": {},
   "source": [
    "**Понижения размера пямяти датафрейма:**"
   ]
  },
  {
   "cell_type": "code",
   "execution_count": 9,
   "id": "capital-northeast",
   "metadata": {},
   "outputs": [],
   "source": [
    "# train_df = reduce_mem_usage(train_df)"
   ]
  },
  {
   "cell_type": "code",
   "execution_count": 10,
   "id": "surface-bible",
   "metadata": {},
   "outputs": [
    {
     "name": "stdout",
     "output_type": "stream",
     "text": [
      "<class 'pandas.core.frame.DataFrame'>\n",
      "RangeIndex: 7500 entries, 0 to 7499\n",
      "Data columns (total 17 columns):\n",
      " #   Column                        Non-Null Count  Dtype  \n",
      "---  ------                        --------------  -----  \n",
      " 0   Home Ownership                7500 non-null   object \n",
      " 1   Annual Income                 5943 non-null   float64\n",
      " 2   Years in current job          7129 non-null   object \n",
      " 3   Tax Liens                     7500 non-null   float64\n",
      " 4   Number of Open Accounts       7500 non-null   float64\n",
      " 5   Years of Credit History       7500 non-null   float64\n",
      " 6   Maximum Open Credit           7500 non-null   float64\n",
      " 7   Number of Credit Problems     7500 non-null   float64\n",
      " 8   Months since last delinquent  3419 non-null   float64\n",
      " 9   Bankruptcies                  7486 non-null   float64\n",
      " 10  Purpose                       7500 non-null   object \n",
      " 11  Term                          7500 non-null   object \n",
      " 12  Current Loan Amount           7500 non-null   float64\n",
      " 13  Current Credit Balance        7500 non-null   float64\n",
      " 14  Monthly Debt                  7500 non-null   float64\n",
      " 15  Credit Score                  5943 non-null   float64\n",
      " 16  Credit Default                7500 non-null   int64  \n",
      "dtypes: float64(12), int64(1), object(4)\n",
      "memory usage: 996.2+ KB\n"
     ]
    }
   ],
   "source": [
    "train_df.info()"
   ]
  },
  {
   "cell_type": "code",
   "execution_count": 11,
   "id": "peripheral-mandate",
   "metadata": {},
   "outputs": [
    {
     "data": {
      "text/html": [
       "<div>\n",
       "<style scoped>\n",
       "    .dataframe tbody tr th:only-of-type {\n",
       "        vertical-align: middle;\n",
       "    }\n",
       "\n",
       "    .dataframe tbody tr th {\n",
       "        vertical-align: top;\n",
       "    }\n",
       "\n",
       "    .dataframe thead th {\n",
       "        text-align: right;\n",
       "    }\n",
       "</style>\n",
       "<table border=\"1\" class=\"dataframe\">\n",
       "  <thead>\n",
       "    <tr style=\"text-align: right;\">\n",
       "      <th></th>\n",
       "      <th>Home Ownership</th>\n",
       "      <th>Annual Income</th>\n",
       "      <th>Years in current job</th>\n",
       "      <th>Tax Liens</th>\n",
       "      <th>Number of Open Accounts</th>\n",
       "      <th>Years of Credit History</th>\n",
       "      <th>Maximum Open Credit</th>\n",
       "      <th>Number of Credit Problems</th>\n",
       "      <th>Months since last delinquent</th>\n",
       "      <th>Bankruptcies</th>\n",
       "      <th>Purpose</th>\n",
       "      <th>Term</th>\n",
       "      <th>Current Loan Amount</th>\n",
       "      <th>Current Credit Balance</th>\n",
       "      <th>Monthly Debt</th>\n",
       "      <th>Credit Score</th>\n",
       "    </tr>\n",
       "  </thead>\n",
       "  <tbody>\n",
       "    <tr>\n",
       "      <th>0</th>\n",
       "      <td>Rent</td>\n",
       "      <td>NaN</td>\n",
       "      <td>4 years</td>\n",
       "      <td>0.0</td>\n",
       "      <td>9.0</td>\n",
       "      <td>12.5</td>\n",
       "      <td>220968.0</td>\n",
       "      <td>0.0</td>\n",
       "      <td>70.0</td>\n",
       "      <td>0.0</td>\n",
       "      <td>debt consolidation</td>\n",
       "      <td>Short Term</td>\n",
       "      <td>162470.0</td>\n",
       "      <td>105906.0</td>\n",
       "      <td>6813.0</td>\n",
       "      <td>NaN</td>\n",
       "    </tr>\n",
       "    <tr>\n",
       "      <th>1</th>\n",
       "      <td>Rent</td>\n",
       "      <td>231838.0</td>\n",
       "      <td>1 year</td>\n",
       "      <td>0.0</td>\n",
       "      <td>6.0</td>\n",
       "      <td>32.7</td>\n",
       "      <td>55946.0</td>\n",
       "      <td>0.0</td>\n",
       "      <td>8.0</td>\n",
       "      <td>0.0</td>\n",
       "      <td>educational expenses</td>\n",
       "      <td>Short Term</td>\n",
       "      <td>78298.0</td>\n",
       "      <td>46037.0</td>\n",
       "      <td>2318.0</td>\n",
       "      <td>699.0</td>\n",
       "    </tr>\n",
       "    <tr>\n",
       "      <th>2</th>\n",
       "      <td>Home Mortgage</td>\n",
       "      <td>1152540.0</td>\n",
       "      <td>3 years</td>\n",
       "      <td>0.0</td>\n",
       "      <td>10.0</td>\n",
       "      <td>13.7</td>\n",
       "      <td>204600.0</td>\n",
       "      <td>0.0</td>\n",
       "      <td>NaN</td>\n",
       "      <td>0.0</td>\n",
       "      <td>debt consolidation</td>\n",
       "      <td>Short Term</td>\n",
       "      <td>200178.0</td>\n",
       "      <td>146490.0</td>\n",
       "      <td>18729.0</td>\n",
       "      <td>7260.0</td>\n",
       "    </tr>\n",
       "    <tr>\n",
       "      <th>3</th>\n",
       "      <td>Home Mortgage</td>\n",
       "      <td>1220313.0</td>\n",
       "      <td>10+ years</td>\n",
       "      <td>0.0</td>\n",
       "      <td>16.0</td>\n",
       "      <td>17.0</td>\n",
       "      <td>456302.0</td>\n",
       "      <td>0.0</td>\n",
       "      <td>70.0</td>\n",
       "      <td>0.0</td>\n",
       "      <td>debt consolidation</td>\n",
       "      <td>Short Term</td>\n",
       "      <td>217382.0</td>\n",
       "      <td>213199.0</td>\n",
       "      <td>27559.0</td>\n",
       "      <td>739.0</td>\n",
       "    </tr>\n",
       "    <tr>\n",
       "      <th>4</th>\n",
       "      <td>Home Mortgage</td>\n",
       "      <td>2340952.0</td>\n",
       "      <td>6 years</td>\n",
       "      <td>0.0</td>\n",
       "      <td>11.0</td>\n",
       "      <td>23.6</td>\n",
       "      <td>1207272.0</td>\n",
       "      <td>0.0</td>\n",
       "      <td>NaN</td>\n",
       "      <td>0.0</td>\n",
       "      <td>debt consolidation</td>\n",
       "      <td>Long Term</td>\n",
       "      <td>777634.0</td>\n",
       "      <td>425391.0</td>\n",
       "      <td>42605.0</td>\n",
       "      <td>706.0</td>\n",
       "    </tr>\n",
       "  </tbody>\n",
       "</table>\n",
       "</div>"
      ],
      "text/plain": [
       "  Home Ownership  Annual Income Years in current job  Tax Liens  \\\n",
       "0           Rent            NaN              4 years        0.0   \n",
       "1           Rent       231838.0               1 year        0.0   \n",
       "2  Home Mortgage      1152540.0              3 years        0.0   \n",
       "3  Home Mortgage      1220313.0            10+ years        0.0   \n",
       "4  Home Mortgage      2340952.0              6 years        0.0   \n",
       "\n",
       "   Number of Open Accounts  Years of Credit History  Maximum Open Credit  \\\n",
       "0                      9.0                     12.5             220968.0   \n",
       "1                      6.0                     32.7              55946.0   \n",
       "2                     10.0                     13.7             204600.0   \n",
       "3                     16.0                     17.0             456302.0   \n",
       "4                     11.0                     23.6            1207272.0   \n",
       "\n",
       "   Number of Credit Problems  Months since last delinquent  Bankruptcies  \\\n",
       "0                        0.0                          70.0           0.0   \n",
       "1                        0.0                           8.0           0.0   \n",
       "2                        0.0                           NaN           0.0   \n",
       "3                        0.0                          70.0           0.0   \n",
       "4                        0.0                           NaN           0.0   \n",
       "\n",
       "                Purpose        Term  Current Loan Amount  \\\n",
       "0    debt consolidation  Short Term             162470.0   \n",
       "1  educational expenses  Short Term              78298.0   \n",
       "2    debt consolidation  Short Term             200178.0   \n",
       "3    debt consolidation  Short Term             217382.0   \n",
       "4    debt consolidation   Long Term             777634.0   \n",
       "\n",
       "   Current Credit Balance  Monthly Debt  Credit Score  \n",
       "0                105906.0        6813.0           NaN  \n",
       "1                 46037.0        2318.0         699.0  \n",
       "2                146490.0       18729.0        7260.0  \n",
       "3                213199.0       27559.0         739.0  \n",
       "4                425391.0       42605.0         706.0  "
      ]
     },
     "execution_count": 11,
     "metadata": {},
     "output_type": "execute_result"
    }
   ],
   "source": [
    "test_df = pd.read_csv(TEST_DATASET_PATH)\n",
    "test_df.head()"
   ]
  },
  {
   "cell_type": "markdown",
   "id": "thermal-soundtrack",
   "metadata": {},
   "source": [
    "**Сравнение количества признаков в датафреймах:**"
   ]
  },
  {
   "cell_type": "code",
   "execution_count": 12,
   "id": "classical-sister",
   "metadata": {},
   "outputs": [
    {
     "data": {
      "text/plain": [
       "True"
      ]
     },
     "execution_count": 12,
     "metadata": {},
     "output_type": "execute_result"
    }
   ],
   "source": [
    "train_df.shape[1] - 1 == test_df.shape[1]"
   ]
  },
  {
   "cell_type": "markdown",
   "id": "brown-special",
   "metadata": {},
   "source": [
    "**Проверка датафрейма на наличие пропусков:**"
   ]
  },
  {
   "cell_type": "code",
   "execution_count": 13,
   "id": "flying-albert",
   "metadata": {},
   "outputs": [
    {
     "data": {
      "text/plain": [
       "Home Ownership                     0\n",
       "Annual Income                   1557\n",
       "Years in current job             371\n",
       "Tax Liens                          0\n",
       "Number of Open Accounts            0\n",
       "Years of Credit History            0\n",
       "Maximum Open Credit                0\n",
       "Number of Credit Problems          0\n",
       "Months since last delinquent    4081\n",
       "Bankruptcies                      14\n",
       "Purpose                            0\n",
       "Term                               0\n",
       "Current Loan Amount                0\n",
       "Current Credit Balance             0\n",
       "Monthly Debt                       0\n",
       "Credit Score                    1557\n",
       "Credit Default                     0\n",
       "dtype: int64"
      ]
     },
     "execution_count": 13,
     "metadata": {},
     "output_type": "execute_result"
    }
   ],
   "source": [
    "train_df.isna().sum()"
   ]
  },
  {
   "cell_type": "markdown",
   "id": "outside-yacht",
   "metadata": {},
   "source": [
    "**Просмотр статистических данных числовых признаков:**"
   ]
  },
  {
   "cell_type": "code",
   "execution_count": 14,
   "id": "alpha-cursor",
   "metadata": {},
   "outputs": [
    {
     "data": {
      "text/html": [
       "<div>\n",
       "<style scoped>\n",
       "    .dataframe tbody tr th:only-of-type {\n",
       "        vertical-align: middle;\n",
       "    }\n",
       "\n",
       "    .dataframe tbody tr th {\n",
       "        vertical-align: top;\n",
       "    }\n",
       "\n",
       "    .dataframe thead th {\n",
       "        text-align: right;\n",
       "    }\n",
       "</style>\n",
       "<table border=\"1\" class=\"dataframe\">\n",
       "  <thead>\n",
       "    <tr style=\"text-align: right;\">\n",
       "      <th></th>\n",
       "      <th>Annual Income</th>\n",
       "      <th>Tax Liens</th>\n",
       "      <th>Number of Open Accounts</th>\n",
       "      <th>Years of Credit History</th>\n",
       "      <th>Maximum Open Credit</th>\n",
       "      <th>Number of Credit Problems</th>\n",
       "      <th>Months since last delinquent</th>\n",
       "      <th>Bankruptcies</th>\n",
       "      <th>Current Loan Amount</th>\n",
       "      <th>Current Credit Balance</th>\n",
       "      <th>Monthly Debt</th>\n",
       "      <th>Credit Score</th>\n",
       "      <th>Credit Default</th>\n",
       "    </tr>\n",
       "  </thead>\n",
       "  <tbody>\n",
       "    <tr>\n",
       "      <th>count</th>\n",
       "      <td>5.943000e+03</td>\n",
       "      <td>7500.000000</td>\n",
       "      <td>7500.000000</td>\n",
       "      <td>7500.000000</td>\n",
       "      <td>7.500000e+03</td>\n",
       "      <td>7500.000000</td>\n",
       "      <td>3419.000000</td>\n",
       "      <td>7486.000000</td>\n",
       "      <td>7.500000e+03</td>\n",
       "      <td>7.500000e+03</td>\n",
       "      <td>7500.000000</td>\n",
       "      <td>5943.000000</td>\n",
       "      <td>7500.000000</td>\n",
       "    </tr>\n",
       "    <tr>\n",
       "      <th>mean</th>\n",
       "      <td>1.366392e+06</td>\n",
       "      <td>0.030133</td>\n",
       "      <td>11.130933</td>\n",
       "      <td>18.317467</td>\n",
       "      <td>9.451537e+05</td>\n",
       "      <td>0.170000</td>\n",
       "      <td>34.692600</td>\n",
       "      <td>0.117152</td>\n",
       "      <td>1.187318e+07</td>\n",
       "      <td>2.898332e+05</td>\n",
       "      <td>18314.454133</td>\n",
       "      <td>1151.087498</td>\n",
       "      <td>0.281733</td>\n",
       "    </tr>\n",
       "    <tr>\n",
       "      <th>std</th>\n",
       "      <td>8.453392e+05</td>\n",
       "      <td>0.271604</td>\n",
       "      <td>4.908924</td>\n",
       "      <td>7.041946</td>\n",
       "      <td>1.602622e+07</td>\n",
       "      <td>0.498598</td>\n",
       "      <td>21.688806</td>\n",
       "      <td>0.347192</td>\n",
       "      <td>3.192612e+07</td>\n",
       "      <td>3.178714e+05</td>\n",
       "      <td>11926.764673</td>\n",
       "      <td>1604.451418</td>\n",
       "      <td>0.449874</td>\n",
       "    </tr>\n",
       "    <tr>\n",
       "      <th>min</th>\n",
       "      <td>1.645970e+05</td>\n",
       "      <td>0.000000</td>\n",
       "      <td>2.000000</td>\n",
       "      <td>4.000000</td>\n",
       "      <td>0.000000e+00</td>\n",
       "      <td>0.000000</td>\n",
       "      <td>0.000000</td>\n",
       "      <td>0.000000</td>\n",
       "      <td>1.124200e+04</td>\n",
       "      <td>0.000000e+00</td>\n",
       "      <td>0.000000</td>\n",
       "      <td>585.000000</td>\n",
       "      <td>0.000000</td>\n",
       "    </tr>\n",
       "    <tr>\n",
       "      <th>25%</th>\n",
       "      <td>8.443410e+05</td>\n",
       "      <td>0.000000</td>\n",
       "      <td>8.000000</td>\n",
       "      <td>13.500000</td>\n",
       "      <td>2.792295e+05</td>\n",
       "      <td>0.000000</td>\n",
       "      <td>16.000000</td>\n",
       "      <td>0.000000</td>\n",
       "      <td>1.801690e+05</td>\n",
       "      <td>1.142565e+05</td>\n",
       "      <td>10067.500000</td>\n",
       "      <td>711.000000</td>\n",
       "      <td>0.000000</td>\n",
       "    </tr>\n",
       "    <tr>\n",
       "      <th>50%</th>\n",
       "      <td>1.168386e+06</td>\n",
       "      <td>0.000000</td>\n",
       "      <td>10.000000</td>\n",
       "      <td>17.000000</td>\n",
       "      <td>4.781590e+05</td>\n",
       "      <td>0.000000</td>\n",
       "      <td>32.000000</td>\n",
       "      <td>0.000000</td>\n",
       "      <td>3.095730e+05</td>\n",
       "      <td>2.093230e+05</td>\n",
       "      <td>16076.500000</td>\n",
       "      <td>731.000000</td>\n",
       "      <td>0.000000</td>\n",
       "    </tr>\n",
       "    <tr>\n",
       "      <th>75%</th>\n",
       "      <td>1.640137e+06</td>\n",
       "      <td>0.000000</td>\n",
       "      <td>14.000000</td>\n",
       "      <td>21.800000</td>\n",
       "      <td>7.935015e+05</td>\n",
       "      <td>0.000000</td>\n",
       "      <td>50.000000</td>\n",
       "      <td>0.000000</td>\n",
       "      <td>5.198820e+05</td>\n",
       "      <td>3.604062e+05</td>\n",
       "      <td>23818.000000</td>\n",
       "      <td>743.000000</td>\n",
       "      <td>1.000000</td>\n",
       "    </tr>\n",
       "    <tr>\n",
       "      <th>max</th>\n",
       "      <td>1.014934e+07</td>\n",
       "      <td>7.000000</td>\n",
       "      <td>43.000000</td>\n",
       "      <td>57.700000</td>\n",
       "      <td>1.304726e+09</td>\n",
       "      <td>7.000000</td>\n",
       "      <td>118.000000</td>\n",
       "      <td>4.000000</td>\n",
       "      <td>1.000000e+08</td>\n",
       "      <td>6.506797e+06</td>\n",
       "      <td>136679.000000</td>\n",
       "      <td>7510.000000</td>\n",
       "      <td>1.000000</td>\n",
       "    </tr>\n",
       "  </tbody>\n",
       "</table>\n",
       "</div>"
      ],
      "text/plain": [
       "       Annual Income    Tax Liens  Number of Open Accounts  \\\n",
       "count   5.943000e+03  7500.000000              7500.000000   \n",
       "mean    1.366392e+06     0.030133                11.130933   \n",
       "std     8.453392e+05     0.271604                 4.908924   \n",
       "min     1.645970e+05     0.000000                 2.000000   \n",
       "25%     8.443410e+05     0.000000                 8.000000   \n",
       "50%     1.168386e+06     0.000000                10.000000   \n",
       "75%     1.640137e+06     0.000000                14.000000   \n",
       "max     1.014934e+07     7.000000                43.000000   \n",
       "\n",
       "       Years of Credit History  Maximum Open Credit  \\\n",
       "count              7500.000000         7.500000e+03   \n",
       "mean                 18.317467         9.451537e+05   \n",
       "std                   7.041946         1.602622e+07   \n",
       "min                   4.000000         0.000000e+00   \n",
       "25%                  13.500000         2.792295e+05   \n",
       "50%                  17.000000         4.781590e+05   \n",
       "75%                  21.800000         7.935015e+05   \n",
       "max                  57.700000         1.304726e+09   \n",
       "\n",
       "       Number of Credit Problems  Months since last delinquent  Bankruptcies  \\\n",
       "count                7500.000000                   3419.000000   7486.000000   \n",
       "mean                    0.170000                     34.692600      0.117152   \n",
       "std                     0.498598                     21.688806      0.347192   \n",
       "min                     0.000000                      0.000000      0.000000   \n",
       "25%                     0.000000                     16.000000      0.000000   \n",
       "50%                     0.000000                     32.000000      0.000000   \n",
       "75%                     0.000000                     50.000000      0.000000   \n",
       "max                     7.000000                    118.000000      4.000000   \n",
       "\n",
       "       Current Loan Amount  Current Credit Balance   Monthly Debt  \\\n",
       "count         7.500000e+03            7.500000e+03    7500.000000   \n",
       "mean          1.187318e+07            2.898332e+05   18314.454133   \n",
       "std           3.192612e+07            3.178714e+05   11926.764673   \n",
       "min           1.124200e+04            0.000000e+00       0.000000   \n",
       "25%           1.801690e+05            1.142565e+05   10067.500000   \n",
       "50%           3.095730e+05            2.093230e+05   16076.500000   \n",
       "75%           5.198820e+05            3.604062e+05   23818.000000   \n",
       "max           1.000000e+08            6.506797e+06  136679.000000   \n",
       "\n",
       "       Credit Score  Credit Default  \n",
       "count   5943.000000     7500.000000  \n",
       "mean    1151.087498        0.281733  \n",
       "std     1604.451418        0.449874  \n",
       "min      585.000000        0.000000  \n",
       "25%      711.000000        0.000000  \n",
       "50%      731.000000        0.000000  \n",
       "75%      743.000000        1.000000  \n",
       "max     7510.000000        1.000000  "
      ]
     },
     "execution_count": 14,
     "metadata": {},
     "output_type": "execute_result"
    }
   ],
   "source": [
    "train_df.describe()"
   ]
  },
  {
   "cell_type": "code",
   "execution_count": 15,
   "id": "valuable-composer",
   "metadata": {},
   "outputs": [],
   "source": [
    "# train_df.info()"
   ]
  },
  {
   "cell_type": "markdown",
   "id": "tight-vienna",
   "metadata": {},
   "source": [
    "**Разделение признаков на числовые и категориальные:**"
   ]
  },
  {
   "cell_type": "code",
   "execution_count": 16,
   "id": "outstanding-tract",
   "metadata": {},
   "outputs": [
    {
     "name": "stdout",
     "output_type": "stream",
     "text": [
      "NUM_FEATURE_NAMES (count - 13):\n",
      " ['Annual Income', 'Tax Liens', 'Number of Open Accounts', 'Years of Credit History', 'Maximum Open Credit', 'Number of Credit Problems', 'Months since last delinquent', 'Bankruptcies', 'Current Loan Amount', 'Current Credit Balance', 'Monthly Debt', 'Credit Score', 'Credit Default'],\n",
      "\n",
      "CAT_FEATURE_NAMES (count - 4):\n",
      "['Home Ownership', 'Years in current job', 'Purpose', 'Term']\n",
      "\n",
      "\n"
     ]
    }
   ],
   "source": [
    "TARGET_NAME = 'Credit Default'\n",
    "BASE_FEATURE_NAMES = train_df.columns.drop(TARGET_NAME).tolist()\n",
    "NUM_FEATURE_NAMES = [col for col in train_df.columns if str(train_df[col].dtype) != 'object']\n",
    "CAT_FEATURE_NAMES = [col for col in train_df.columns if str(train_df[col].dtype) == 'object']\n",
    "\n",
    "print(f'NUM_FEATURE_NAMES (count - {len(NUM_FEATURE_NAMES)}):\\n {NUM_FEATURE_NAMES},\\n\\nCAT_FEATURE_NAMES (count - {len(CAT_FEATURE_NAMES)}):\\n{CAT_FEATURE_NAMES}\\n\\n')"
   ]
  },
  {
   "cell_type": "markdown",
   "id": "micro-spray",
   "metadata": {},
   "source": [
    "**Построение гистограм распределения числовых признаков:**"
   ]
  },
  {
   "cell_type": "code",
   "execution_count": 17,
   "id": "continuous-claim",
   "metadata": {},
   "outputs": [
    {
     "data": {
      "text/plain": [
       "array([[<AxesSubplot:title={'center':'Annual Income'}>,\n",
       "        <AxesSubplot:title={'center':'Tax Liens'}>,\n",
       "        <AxesSubplot:title={'center':'Number of Open Accounts'}>,\n",
       "        <AxesSubplot:title={'center':'Years of Credit History'}>],\n",
       "       [<AxesSubplot:title={'center':'Maximum Open Credit'}>,\n",
       "        <AxesSubplot:title={'center':'Number of Credit Problems'}>,\n",
       "        <AxesSubplot:title={'center':'Months since last delinquent'}>,\n",
       "        <AxesSubplot:title={'center':'Bankruptcies'}>],\n",
       "       [<AxesSubplot:title={'center':'Current Loan Amount'}>,\n",
       "        <AxesSubplot:title={'center':'Current Credit Balance'}>,\n",
       "        <AxesSubplot:title={'center':'Monthly Debt'}>,\n",
       "        <AxesSubplot:title={'center':'Credit Score'}>],\n",
       "       [<AxesSubplot:title={'center':'Credit Default'}>, <AxesSubplot:>,\n",
       "        <AxesSubplot:>, <AxesSubplot:>]], dtype=object)"
      ]
     },
     "execution_count": 17,
     "metadata": {},
     "output_type": "execute_result"
    },
    {
     "data": {
      "image/png": "[encoded data removed]",
      "text/plain": [
       "<Figure size 1728x1728 with 16 Axes>"
      ]
     },
     "metadata": {
      "needs_background": "light"
     },
     "output_type": "display_data"
    }
   ],
   "source": [
    "train_df.hist(figsize=(24, 24), bins=20, grid=False)"
   ]
  },
  {
   "cell_type": "markdown",
   "id": "desirable-michael",
   "metadata": {},
   "source": [
    "### **Анализ целевой переменной.**"
   ]
  },
  {
   "cell_type": "markdown",
   "id": "impressed-optimization",
   "metadata": {},
   "source": [
    "**Озор распределения:**"
   ]
  },
  {
   "cell_type": "code",
   "execution_count": 18,
   "id": "expensive-glasgow",
   "metadata": {},
   "outputs": [
    {
     "data": {
      "text/plain": [
       "0    5387\n",
       "1    2113\n",
       "Name: Credit Default, dtype: int64"
      ]
     },
     "execution_count": 18,
     "metadata": {},
     "output_type": "execute_result"
    }
   ],
   "source": [
    "train_df['Credit Default'].value_counts()"
   ]
  },
  {
   "cell_type": "code",
   "execution_count": 19,
   "id": "removed-group",
   "metadata": {},
   "outputs": [
    {
     "data": {
      "image/png": "[encoded data removed]",
      "text/plain": [
       "<Figure size 576x360 with 1 Axes>"
      ]
     },
     "metadata": {
      "needs_background": "light"
     },
     "output_type": "display_data"
    }
   ],
   "source": [
    "plt.figure(figsize=(8, 5))\n",
    "sns.countplot(x=TARGET_NAME, data=train_df)\n",
    "\n",
    "plt.title('Распределение целевой переменной')\n",
    "plt.show()"
   ]
  },
  {
   "cell_type": "markdown",
   "id": "living-tuition",
   "metadata": {},
   "source": [
    "**Кореляция целевой переменной с базовыми признаками:**"
   ]
  },
  {
   "cell_type": "code",
   "execution_count": 20,
   "id": "pregnant-yemen",
   "metadata": {},
   "outputs": [
    {
     "data": {
      "image/png": "[encoded data removed]",
      "text/plain": [
       "<Figure size 720x576 with 1 Axes>"
      ]
     },
     "metadata": {
      "needs_background": "light"
     },
     "output_type": "display_data"
    }
   ],
   "source": [
    "corr_with_target = train_df.corr().iloc[:-1, -1].sort_values(ascending=False)\n",
    "plt.figure(figsize=(10, 8))\n",
    "\n",
    "sns.barplot(x=corr_with_target.values, y=corr_with_target.index)\n",
    "plt.title('Кореляция признаков с целевой переменной')\n",
    "plt.show()"
   ]
  },
  {
   "cell_type": "markdown",
   "id": "searching-compiler",
   "metadata": {},
   "source": [
    "**При первоначальном анализе датасета видны следующие аномалии:**\n",
    "* Имеются пропуски в следующих признаках:\n",
    "    - Annual Income, \n",
    "    - Years in current job,\n",
    "    - Months since last delinquent,\n",
    "    - Credit Score,\n",
    "    - Bankruptcies\n",
    "* Имеются выбросы в следующих признаках:\n",
    "    - Current Loan Amount (100,000,000.00),\n",
    "        "
   ]
  },
  {
   "cell_type": "markdown",
   "id": "fancy-program",
   "metadata": {},
   "source": [
    "### **Первичная обработка пропусков и выбросов.**"
   ]
  },
  {
   "cell_type": "markdown",
   "id": "accompanied-amplifier",
   "metadata": {},
   "source": [
    "Пропуски в Annual Income могут свидетельствовать о неизвестном доходе. В таком случае заполним эти пропуски медианами."
   ]
  },
  {
   "cell_type": "code",
   "execution_count": 21,
   "id": "searching-phase",
   "metadata": {},
   "outputs": [],
   "source": [
    "train_df['Annual Income'].fillna(train_df['Annual Income'].median(), inplace=True)"
   ]
  },
  {
   "cell_type": "markdown",
   "id": "previous-uzbekistan",
   "metadata": {},
   "source": [
    "Для заполнения пропусков в признаке \"Years in current job\" приведем значения этого признака к числовым данным.\n",
    "При этом пропуски заполним 0."
   ]
  },
  {
   "cell_type": "code",
   "execution_count": 22,
   "id": "committed-growth",
   "metadata": {},
   "outputs": [
    {
     "data": {
      "text/plain": [
       "10+ years    2332\n",
       "2 years       705\n",
       "3 years       620\n",
       "< 1 year      563\n",
       "5 years       516\n",
       "1 year        504\n",
       "4 years       469\n",
       "6 years       426\n",
       "7 years       396\n",
       "8 years       339\n",
       "9 years       259\n",
       "Name: Years in current job, dtype: int64"
      ]
     },
     "execution_count": 22,
     "metadata": {},
     "output_type": "execute_result"
    }
   ],
   "source": [
    "train_df['Years in current job'].value_counts()"
   ]
  },
  {
   "cell_type": "code",
   "execution_count": 23,
   "id": "signed-platform",
   "metadata": {},
   "outputs": [],
   "source": [
    "train_df['Years in current job'].fillna(0, inplace=True)\n"
   ]
  },
  {
   "cell_type": "code",
   "execution_count": 24,
   "id": "hairy-witness",
   "metadata": {},
   "outputs": [
    {
     "data": {
      "text/plain": [
       "10    2332\n",
       "0      934\n",
       "2      705\n",
       "3      620\n",
       "5      516\n",
       "1      504\n",
       "4      469\n",
       "6      426\n",
       "7      396\n",
       "8      339\n",
       "9      259\n",
       "Name: Years in current job, dtype: int64"
      ]
     },
     "execution_count": 24,
     "metadata": {},
     "output_type": "execute_result"
    }
   ],
   "source": [
    "train_df.loc[train_df['Years in current job'] == '< 1 year',  'Years in current job'] = 0\n",
    "train_df.loc[train_df['Years in current job'] == '1 year',  'Years in current job'] = 1\n",
    "train_df.loc[train_df['Years in current job'] == '10+ years',  'Years in current job'] = 10\n",
    "\n",
    "for i in range(2, 11):\n",
    "    train_df.loc[train_df['Years in current job'] == f'{i} years',  'Years in current job'] = i\n",
    "\n",
    "train_df['Years in current job'] = train_df['Years in current job'].astype(np.int32)\n",
    "\n",
    "train_df['Years in current job'].value_counts()"
   ]
  },
  {
   "cell_type": "markdown",
   "id": "artificial-luxembourg",
   "metadata": {},
   "source": [
    "При заполнении пропусков значенией признака \"Months since last delinquent\" предположим. что пропуск это отсутствие просрочки."
   ]
  },
  {
   "cell_type": "code",
   "execution_count": 25,
   "id": "substantial-undergraduate",
   "metadata": {},
   "outputs": [],
   "source": [
    "train_df['Months since last delinquent'].fillna(0, inplace=True)"
   ]
  },
  {
   "cell_type": "markdown",
   "id": "aggressive-device",
   "metadata": {},
   "source": [
    "Пропуски в признаке Credit Score заполним медианами."
   ]
  },
  {
   "cell_type": "code",
   "execution_count": 26,
   "id": "statistical-notion",
   "metadata": {},
   "outputs": [],
   "source": [
    "train_df['Credit Score'].fillna(train_df['Credit Score'].median(), inplace=True)"
   ]
  },
  {
   "cell_type": "markdown",
   "id": "ordered-thong",
   "metadata": {},
   "source": [
    "В признаке \"Current Loan Amount\" удаляем выбросы и заменяем их медианами."
   ]
  },
  {
   "cell_type": "code",
   "execution_count": 27,
   "id": "european-heater",
   "metadata": {},
   "outputs": [],
   "source": [
    "train_df.loc[(train_df['Current Loan Amount'] == 99999999.0), 'Current Loan Amount'] = train_df['Current Loan Amount'].median()"
   ]
  },
  {
   "cell_type": "markdown",
   "id": "integrated-italic",
   "metadata": {},
   "source": [
    "В признаке \"Bankruptcies\" предположим, что пропуски значений это отсутствие банкротств."
   ]
  },
  {
   "cell_type": "code",
   "execution_count": 28,
   "id": "substantial-startup",
   "metadata": {},
   "outputs": [],
   "source": [
    "train_df['Bankruptcies'].fillna(0, inplace=True)"
   ]
  },
  {
   "cell_type": "code",
   "execution_count": 29,
   "id": "dress-aside",
   "metadata": {},
   "outputs": [
    {
     "data": {
      "text/plain": [
       "Home Ownership                  0\n",
       "Annual Income                   0\n",
       "Years in current job            0\n",
       "Tax Liens                       0\n",
       "Number of Open Accounts         0\n",
       "Years of Credit History         0\n",
       "Maximum Open Credit             0\n",
       "Number of Credit Problems       0\n",
       "Months since last delinquent    0\n",
       "Bankruptcies                    0\n",
       "Purpose                         0\n",
       "Term                            0\n",
       "Current Loan Amount             0\n",
       "Current Credit Balance          0\n",
       "Monthly Debt                    0\n",
       "Credit Score                    0\n",
       "Credit Default                  0\n",
       "dtype: int64"
      ]
     },
     "execution_count": 29,
     "metadata": {},
     "output_type": "execute_result"
    }
   ],
   "source": [
    "train_df.isna().sum()"
   ]
  },
  {
   "cell_type": "code",
   "execution_count": 30,
   "id": "voluntary-imperial",
   "metadata": {},
   "outputs": [
    {
     "name": "stdout",
     "output_type": "stream",
     "text": [
      "<class 'pandas.core.frame.DataFrame'>\n",
      "RangeIndex: 7500 entries, 0 to 7499\n",
      "Data columns (total 17 columns):\n",
      " #   Column                        Non-Null Count  Dtype  \n",
      "---  ------                        --------------  -----  \n",
      " 0   Home Ownership                7500 non-null   object \n",
      " 1   Annual Income                 7500 non-null   float64\n",
      " 2   Years in current job          7500 non-null   int32  \n",
      " 3   Tax Liens                     7500 non-null   float64\n",
      " 4   Number of Open Accounts       7500 non-null   float64\n",
      " 5   Years of Credit History       7500 non-null   float64\n",
      " 6   Maximum Open Credit           7500 non-null   float64\n",
      " 7   Number of Credit Problems     7500 non-null   float64\n",
      " 8   Months since last delinquent  7500 non-null   float64\n",
      " 9   Bankruptcies                  7500 non-null   float64\n",
      " 10  Purpose                       7500 non-null   object \n",
      " 11  Term                          7500 non-null   object \n",
      " 12  Current Loan Amount           7500 non-null   float64\n",
      " 13  Current Credit Balance        7500 non-null   float64\n",
      " 14  Monthly Debt                  7500 non-null   float64\n",
      " 15  Credit Score                  7500 non-null   float64\n",
      " 16  Credit Default                7500 non-null   int64  \n",
      "dtypes: float64(12), int32(1), int64(1), object(3)\n",
      "memory usage: 966.9+ KB\n"
     ]
    }
   ],
   "source": [
    "train_df.info()"
   ]
  },
  {
   "cell_type": "markdown",
   "id": "digital-glance",
   "metadata": {},
   "source": [
    "**Кореляция целевой переменной с базовыми признаками**"
   ]
  },
  {
   "cell_type": "code",
   "execution_count": 31,
   "id": "angry-break",
   "metadata": {},
   "outputs": [
    {
     "data": {
      "image/png": "[encoded data removed]",
      "text/plain": [
       "<Figure size 720x576 with 1 Axes>"
      ]
     },
     "metadata": {
      "needs_background": "light"
     },
     "output_type": "display_data"
    }
   ],
   "source": [
    "corr_with_target = train_df.corr().iloc[:-1, -1].sort_values(ascending=False)\n",
    "plt.figure(figsize=(10, 8))\n",
    "\n",
    "sns.barplot(x=corr_with_target.values, y=corr_with_target.index)\n",
    "plt.title('Кореляция признаков с целевой переменной')\n",
    "plt.show()"
   ]
  },
  {
   "cell_type": "markdown",
   "id": "pretty-conversion",
   "metadata": {},
   "source": [
    "#### **Создание класса для предобработки данных.**"
   ]
  },
  {
   "cell_type": "code",
   "execution_count": 32,
   "id": "pleased-vertex",
   "metadata": {},
   "outputs": [],
   "source": [
    "class DataPreprocessing:\n",
    "    def __init__(self):\n",
    "        pass\n",
    "   \n",
    "    def transform(self, df):\n",
    "              \n",
    "        # Заполнение пропусков в 'Annual Income' медианами.        \n",
    "        df['Annual Income'].fillna(df['Annual Income'].median(), inplace=True)\n",
    "\n",
    "        # Заполнение пропусков в 'Years in current job' нулями.\n",
    "        df['Years in current job'].fillna(0, inplace=True)\n",
    "\n",
    "        # Перевод значений признака 'Years in current job' из object в int32.\n",
    "        df.loc[df['Years in current job'] == '< 1 year',  'Years in current job'] = 0\n",
    "        df.loc[df['Years in current job'] == '1 year',  'Years in current job'] = 1\n",
    "        df.loc[df['Years in current job'] == '10+ years',  'Years in current job'] = 10\n",
    "\n",
    "        for i in range(2, 11):\n",
    "            df.loc[df['Years in current job'] == f'{i} years',  'Years in current job'] = i\n",
    "\n",
    "        df['Years in current job'] = df['Years in current job'].astype(np.int32)\n",
    "\n",
    "        # Заполнение пропусков в 'Months since last delinquent' нулями.\n",
    "        df['Months since last delinquent'].fillna(0, inplace=True)\n",
    "\n",
    "        # Заполнение пропусков в 'Credit Score' медианами.\n",
    "        df['Credit Score'].fillna(df['Credit Score'].median(), inplace=True)\n",
    "\n",
    "        # Удаляем выбросы и заполняем их медианами в приззнаке 'Current Loan Amount'.\n",
    "        df.loc[(df['Current Loan Amount'] == 99999999.0), 'Current Loan Amount'] = df['Current Loan Amount'].median()\n",
    "\n",
    "        # Заполняем пропуски 'Bankruptcies' в нулями.\n",
    "        df['Bankruptcies'].fillna(0, inplace=True)\n",
    "        \n",
    "        return df\n"
   ]
  },
  {
   "cell_type": "code",
   "execution_count": 33,
   "id": "effective-chassis",
   "metadata": {},
   "outputs": [
    {
     "name": "stdout",
     "output_type": "stream",
     "text": [
      "NUM_FEATURE_NAMES (count - 14):\n",
      " ['Annual Income', 'Years in current job', 'Tax Liens', 'Number of Open Accounts', 'Years of Credit History', 'Maximum Open Credit', 'Number of Credit Problems', 'Months since last delinquent', 'Bankruptcies', 'Current Loan Amount', 'Current Credit Balance', 'Monthly Debt', 'Credit Score', 'Credit Default'],\n",
      "\n",
      "CAT_FEATURE_NAMES (count - 3):\n",
      "['Home Ownership', 'Purpose', 'Term']\n",
      "\n",
      "\n"
     ]
    }
   ],
   "source": [
    "TARGET_NAME = 'Credit Default'\n",
    "BASE_FEATURE_NAMES = train_df.columns.drop(TARGET_NAME).tolist()\n",
    "NUM_FEATURE_NAMES = [col for col in train_df.columns if str(train_df[col].dtype) != 'object']\n",
    "CAT_FEATURE_NAMES = [col for col in train_df.columns if str(train_df[col].dtype) == 'object']\n",
    "\n",
    "print(f'NUM_FEATURE_NAMES (count - {len(NUM_FEATURE_NAMES)}):\\n {NUM_FEATURE_NAMES},\\n\\nCAT_FEATURE_NAMES (count - {len(CAT_FEATURE_NAMES)}):\\n{CAT_FEATURE_NAMES}\\n\\n')"
   ]
  },
  {
   "cell_type": "markdown",
   "id": "wrapped-harvey",
   "metadata": {},
   "source": [
    "**Построение матрицы корреляции**"
   ]
  },
  {
   "cell_type": "code",
   "execution_count": 34,
   "id": "mechanical-married",
   "metadata": {},
   "outputs": [
    {
     "data": {
      "image/png": "[encoded data removed]",
      "text/plain": [
       "<Figure size 1008x1008 with 2 Axes>"
      ]
     },
     "metadata": {
      "needs_background": "light"
     },
     "output_type": "display_data"
    }
   ],
   "source": [
    "plt.figure(figsize = (14,14))\n",
    "\n",
    "sns.set(font_scale=1.4)\n",
    "sns.heatmap(train_df[BASE_FEATURE_NAMES].corr().round(3), annot=True, linewidths=.5, cmap='GnBu')\n",
    "\n",
    "plt.title('Correlation matrix')\n",
    "plt.show()"
   ]
  },
  {
   "cell_type": "code",
   "execution_count": 35,
   "id": "lightweight-psychology",
   "metadata": {},
   "outputs": [],
   "source": [
    "# Здесь должен был быть раздел для генерации новых признаков. \n",
    "# Но, т.к. Вы читаете этот комментарий, значит я делал проект в последний момент и не успел как следует поработать с признаками."
   ]
  },
  {
   "cell_type": "markdown",
   "id": "blessed-prince",
   "metadata": {},
   "source": [
    "### **Построение моделей.**"
   ]
  },
  {
   "cell_type": "markdown",
   "id": "offshore-myrtle",
   "metadata": {},
   "source": [
    "**Создаем копию датафрейма:**"
   ]
  },
  {
   "cell_type": "code",
   "execution_count": 36,
   "id": "worldwide-scholar",
   "metadata": {},
   "outputs": [
    {
     "name": "stdout",
     "output_type": "stream",
     "text": [
      "<class 'pandas.core.frame.DataFrame'>\n",
      "RangeIndex: 7500 entries, 0 to 7499\n",
      "Data columns (total 17 columns):\n",
      " #   Column                        Non-Null Count  Dtype  \n",
      "---  ------                        --------------  -----  \n",
      " 0   Home Ownership                7500 non-null   object \n",
      " 1   Annual Income                 7500 non-null   float64\n",
      " 2   Years in current job          7500 non-null   int32  \n",
      " 3   Tax Liens                     7500 non-null   float64\n",
      " 4   Number of Open Accounts       7500 non-null   float64\n",
      " 5   Years of Credit History       7500 non-null   float64\n",
      " 6   Maximum Open Credit           7500 non-null   float64\n",
      " 7   Number of Credit Problems     7500 non-null   float64\n",
      " 8   Months since last delinquent  7500 non-null   float64\n",
      " 9   Bankruptcies                  7500 non-null   float64\n",
      " 10  Purpose                       7500 non-null   object \n",
      " 11  Term                          7500 non-null   object \n",
      " 12  Current Loan Amount           7500 non-null   float64\n",
      " 13  Current Credit Balance        7500 non-null   float64\n",
      " 14  Monthly Debt                  7500 non-null   float64\n",
      " 15  Credit Score                  7500 non-null   float64\n",
      " 16  Credit Default                7500 non-null   int64  \n",
      "dtypes: float64(12), int32(1), int64(1), object(3)\n",
      "memory usage: 966.9+ KB\n"
     ]
    }
   ],
   "source": [
    "train_df_1 = train_df.copy()\n",
    "train_df_1.info()"
   ]
  },
  {
   "cell_type": "markdown",
   "id": "invisible-probability",
   "metadata": {},
   "source": [
    "**Разделение на тренировочную и валидационную выборки.**\n",
    "\n",
    "Т.к. для выработки baseline сначала строить модели при помощи логистической регрессии и К ближайших соседей, \n",
    "то на этом этапе будем использовать тольео числовые признаки датафрейма."
   ]
  },
  {
   "cell_type": "code",
   "execution_count": 37,
   "id": "prescribed-scene",
   "metadata": {},
   "outputs": [],
   "source": [
    "X = train_df[NUM_FEATURE_NAMES].drop(columns=TARGET_NAME)\n",
    "y = train_df[TARGET_NAME]\n",
    "\n",
    "X_train, X_test, y_train, y_test = train_test_split(X, y, shuffle=True, random_state=21)"
   ]
  },
  {
   "cell_type": "markdown",
   "id": "italian-hormone",
   "metadata": {},
   "source": [
    "**Нормализация:**"
   ]
  },
  {
   "cell_type": "code",
   "execution_count": 38,
   "id": "centered-arbor",
   "metadata": {},
   "outputs": [],
   "source": [
    "scaler = StandardScaler()\n",
    "\n",
    "norm_df = train_df.copy()\n",
    "norm_df = scaler.fit_transform(norm_df[NUM_FEATURE_NAMES])\n",
    "\n",
    "train_df = norm_df.copy()\n"
   ]
  },
  {
   "cell_type": "markdown",
   "id": "vulnerable-payday",
   "metadata": {},
   "source": [
    "**Балансировка:**"
   ]
  },
  {
   "cell_type": "code",
   "execution_count": 39,
   "id": "permanent-swing",
   "metadata": {},
   "outputs": [
    {
     "data": {
      "text/plain": [
       "0    4046\n",
       "1    3158\n",
       "Name: Credit Default, dtype: int64"
      ]
     },
     "execution_count": 39,
     "metadata": {},
     "output_type": "execute_result"
    }
   ],
   "source": [
    "df_for_balancing = pd.concat([X_train, y_train], axis=1)\n",
    "df_balanced = balance_df_by_target(df_for_balancing, TARGET_NAME)\n",
    "\n",
    "df_balanced[TARGET_NAME].value_counts()"
   ]
  },
  {
   "cell_type": "code",
   "execution_count": 40,
   "id": "collected-survivor",
   "metadata": {},
   "outputs": [],
   "source": [
    "X_train = df_balanced.drop(columns=TARGET_NAME)\n",
    "y_train = df_balanced[TARGET_NAME]\n"
   ]
  },
  {
   "cell_type": "markdown",
   "id": "rubber-safety",
   "metadata": {},
   "source": [
    "**Логистическая регрессия:**"
   ]
  },
  {
   "cell_type": "code",
   "execution_count": 41,
   "id": "alive-homework",
   "metadata": {},
   "outputs": [
    {
     "name": "stdout",
     "output_type": "stream",
     "text": [
      "TRAIN\n",
      "\n",
      "              precision    recall  f1-score   support\n",
      "\n",
      "           0       0.65      0.80      0.71      4046\n",
      "           1       0.63      0.44      0.52      3158\n",
      "\n",
      "    accuracy                           0.64      7204\n",
      "   macro avg       0.64      0.62      0.62      7204\n",
      "weighted avg       0.64      0.64      0.63      7204\n",
      "\n",
      "TEST\n",
      "\n",
      "              precision    recall  f1-score   support\n",
      "\n",
      "           0       0.77      0.80      0.79      1341\n",
      "           1       0.45      0.42      0.43       534\n",
      "\n",
      "    accuracy                           0.69      1875\n",
      "   macro avg       0.61      0.61      0.61      1875\n",
      "weighted avg       0.68      0.69      0.69      1875\n",
      "\n",
      "CONFUSION MATRIX\n",
      "\n",
      "col_0              0    1\n",
      "Credit Default           \n",
      "0               1071  270\n",
      "1                312  222\n"
     ]
    }
   ],
   "source": [
    "lr_model = LogisticRegression()\n",
    "lr_model.fit(X_train, y_train)\n",
    "\n",
    "y_train_pred = lr_model.predict(X_train)\n",
    "y_test_pred = lr_model.predict(X_test)\n",
    "\n",
    "get_classification_report(y_train, y_train_pred, y_test, y_test_pred)"
   ]
  },
  {
   "cell_type": "markdown",
   "id": "parallel-celebrity",
   "metadata": {},
   "source": [
    "**К ближайших соседей:**"
   ]
  },
  {
   "cell_type": "code",
   "execution_count": 42,
   "id": "skilled-audit",
   "metadata": {},
   "outputs": [
    {
     "name": "stdout",
     "output_type": "stream",
     "text": [
      "TRAIN\n",
      "\n",
      "              precision    recall  f1-score   support\n",
      "\n",
      "           0       0.76      0.81      0.79      4046\n",
      "           1       0.74      0.67      0.70      3158\n",
      "\n",
      "    accuracy                           0.75      7204\n",
      "   macro avg       0.75      0.74      0.74      7204\n",
      "weighted avg       0.75      0.75      0.75      7204\n",
      "\n",
      "TEST\n",
      "\n",
      "              precision    recall  f1-score   support\n",
      "\n",
      "           0       0.74      0.70      0.72      1341\n",
      "           1       0.34      0.39      0.37       534\n",
      "\n",
      "    accuracy                           0.61      1875\n",
      "   macro avg       0.54      0.55      0.54      1875\n",
      "weighted avg       0.63      0.61      0.62      1875\n",
      "\n",
      "CONFUSION MATRIX\n",
      "\n",
      "col_0             0    1\n",
      "Credit Default          \n",
      "0               941  400\n",
      "1               324  210\n"
     ]
    }
   ],
   "source": [
    "model_knn = KNeighborsClassifier()\n",
    "model_knn.fit(X_train, y_train)\n",
    "\n",
    "y_train_pred = model_knn.predict(X_train)\n",
    "y_test_pred = model_knn.predict(X_test)\n",
    "\n",
    "get_classification_report(y_train, y_train_pred, y_test, y_test_pred)"
   ]
  },
  {
   "cell_type": "markdown",
   "id": "short-novel",
   "metadata": {},
   "source": [
    "**XGBoost**"
   ]
  },
  {
   "cell_type": "code",
   "execution_count": 43,
   "id": "wicked-yield",
   "metadata": {},
   "outputs": [
    {
     "name": "stdout",
     "output_type": "stream",
     "text": [
      "[10:13:25] WARNING: ../src/learner.cc:1095: Starting in XGBoost 1.3.0, the default evaluation metric used with the objective 'binary:logistic' was changed from 'error' to 'logloss'. Explicitly set eval_metric if you'd like to restore the old behavior.\n",
      "TRAIN\n",
      "\n",
      "              precision    recall  f1-score   support\n",
      "\n",
      "           0       0.97      0.98      0.97      4046\n",
      "           1       0.97      0.96      0.97      3158\n",
      "\n",
      "    accuracy                           0.97      7204\n",
      "   macro avg       0.97      0.97      0.97      7204\n",
      "weighted avg       0.97      0.97      0.97      7204\n",
      "\n",
      "TEST\n",
      "\n",
      "              precision    recall  f1-score   support\n",
      "\n",
      "           0       0.79      0.85      0.81      1341\n",
      "           1       0.52      0.42      0.46       534\n",
      "\n",
      "    accuracy                           0.72      1875\n",
      "   macro avg       0.65      0.63      0.64      1875\n",
      "weighted avg       0.71      0.72      0.71      1875\n",
      "\n",
      "CONFUSION MATRIX\n",
      "\n",
      "col_0              0    1\n",
      "Credit Default           \n",
      "0               1134  207\n",
      "1                310  224\n"
     ]
    }
   ],
   "source": [
    "model_xgb = xgb.XGBClassifier(random_state=11)\n",
    "model_xgb.fit(X_train, y_train)\n",
    "\n",
    "y_train_pred = model_xgb.predict(X_train)\n",
    "y_test_pred = model_xgb.predict(X_test)\n",
    "\n",
    "get_classification_report(y_train, y_train_pred, y_test, y_test_pred)"
   ]
  },
  {
   "cell_type": "markdown",
   "id": "innovative-driving",
   "metadata": {},
   "source": [
    "**LightGBM**"
   ]
  },
  {
   "cell_type": "code",
   "execution_count": 44,
   "id": "indoor-voluntary",
   "metadata": {},
   "outputs": [
    {
     "name": "stdout",
     "output_type": "stream",
     "text": [
      "TRAIN\n",
      "\n",
      "              precision    recall  f1-score   support\n",
      "\n",
      "           0       0.92      0.95      0.94      4046\n",
      "           1       0.94      0.90      0.92      3158\n",
      "\n",
      "    accuracy                           0.93      7204\n",
      "   macro avg       0.93      0.93      0.93      7204\n",
      "weighted avg       0.93      0.93      0.93      7204\n",
      "\n",
      "TEST\n",
      "\n",
      "              precision    recall  f1-score   support\n",
      "\n",
      "           0       0.80      0.84      0.82      1341\n",
      "           1       0.53      0.46      0.50       534\n",
      "\n",
      "    accuracy                           0.73      1875\n",
      "   macro avg       0.66      0.65      0.66      1875\n",
      "weighted avg       0.72      0.73      0.72      1875\n",
      "\n",
      "CONFUSION MATRIX\n",
      "\n",
      "col_0              0    1\n",
      "Credit Default           \n",
      "0               1122  219\n",
      "1                286  248\n"
     ]
    }
   ],
   "source": [
    "model_lgbm = lgbm.LGBMClassifier(random_state=11)\n",
    "model_lgbm.fit(X_train, y_train)\n",
    "\n",
    "y_train_pred = model_lgbm.predict(X_train)\n",
    "y_test_pred = model_lgbm.predict(X_test)\n",
    "\n",
    "get_classification_report(y_train, y_train_pred, y_test, y_test_pred)"
   ]
  },
  {
   "cell_type": "markdown",
   "id": "single-saturn",
   "metadata": {},
   "source": [
    "**CatBoost**"
   ]
  },
  {
   "cell_type": "code",
   "execution_count": 45,
   "id": "complimentary-sacrifice",
   "metadata": {},
   "outputs": [
    {
     "name": "stdout",
     "output_type": "stream",
     "text": [
      "TRAIN\n",
      "\n",
      "              precision    recall  f1-score   support\n",
      "\n",
      "           0       0.88      0.95      0.92      4046\n",
      "           1       0.93      0.84      0.88      3158\n",
      "\n",
      "    accuracy                           0.90      7204\n",
      "   macro avg       0.91      0.90      0.90      7204\n",
      "weighted avg       0.90      0.90      0.90      7204\n",
      "\n",
      "TEST\n",
      "\n",
      "              precision    recall  f1-score   support\n",
      "\n",
      "           0       0.79      0.85      0.82      1341\n",
      "           1       0.55      0.45      0.49       534\n",
      "\n",
      "    accuracy                           0.74      1875\n",
      "   macro avg       0.67      0.65      0.66      1875\n",
      "weighted avg       0.72      0.74      0.73      1875\n",
      "\n",
      "CONFUSION MATRIX\n",
      "\n",
      "col_0              0    1\n",
      "Credit Default           \n",
      "0               1145  196\n",
      "1                296  238\n"
     ]
    }
   ],
   "source": [
    "model_catb = catb.CatBoostClassifier(silent=True, random_state=11)\n",
    "model_catb.fit(X_train, y_train)\n",
    "\n",
    "y_train_pred = model_catb.predict(X_train)\n",
    "y_test_pred = model_catb.predict(X_test)\n",
    "\n",
    "get_classification_report(y_train, y_train_pred, y_test, y_test_pred)"
   ]
  },
  {
   "cell_type": "markdown",
   "id": "cultural-center",
   "metadata": {},
   "source": [
    "** **"
   ]
  },
  {
   "cell_type": "markdown",
   "id": "received-chinese",
   "metadata": {},
   "source": [
    "#### **Вывод по baseline:**\n",
    "\n",
    "Из приведенных вычислений видно, что построение моделей только лишь на числовых признаках, \n",
    "без кодирования категориальных, метрики качества на валидационной выборке получаются низкими.\n",
    "Так же сильно переобучение.\n",
    "Так же становится очевидным, что сильная сторона CatBoost нивелируется за счет неприменения категориальных признаков при обучении модели."
   ]
  },
  {
   "cell_type": "markdown",
   "id": "forced-convenience",
   "metadata": {},
   "source": [
    "#### **Обучим модель CatBoost на датафрейме с учетом категориальных признаков.**"
   ]
  },
  {
   "cell_type": "code",
   "execution_count": 46,
   "id": "medieval-questionnaire",
   "metadata": {},
   "outputs": [
    {
     "data": {
      "text/plain": [
       "['Home Ownership',\n",
       " 'Annual Income',\n",
       " 'Years in current job',\n",
       " 'Tax Liens',\n",
       " 'Number of Open Accounts',\n",
       " 'Years of Credit History',\n",
       " 'Maximum Open Credit',\n",
       " 'Number of Credit Problems',\n",
       " 'Months since last delinquent',\n",
       " 'Bankruptcies',\n",
       " 'Purpose',\n",
       " 'Term',\n",
       " 'Current Loan Amount',\n",
       " 'Current Credit Balance',\n",
       " 'Monthly Debt',\n",
       " 'Credit Score']"
      ]
     },
     "execution_count": 46,
     "metadata": {},
     "output_type": "execute_result"
    }
   ],
   "source": [
    "BASE_FEATURE_NAMES"
   ]
  },
  {
   "cell_type": "markdown",
   "id": "dependent-paintball",
   "metadata": {},
   "source": [
    "**Разделяем датафрейм на тестовую и валидационную выборки:**"
   ]
  },
  {
   "cell_type": "code",
   "execution_count": 47,
   "id": "handmade-daisy",
   "metadata": {},
   "outputs": [],
   "source": [
    "X_1 = train_df_1[BASE_FEATURE_NAMES]\n",
    "y_1 = train_df_1[TARGET_NAME]\n",
    "\n",
    "X_1_train, X_1_test, y_1_train, y_1_test = train_test_split(X_1, y_1, shuffle=True, random_state=21)\n"
   ]
  },
  {
   "cell_type": "markdown",
   "id": "spanish-politics",
   "metadata": {},
   "source": [
    "**Производим нормализацию цисловых признаков:**"
   ]
  },
  {
   "cell_type": "code",
   "execution_count": 48,
   "id": "superior-disco",
   "metadata": {},
   "outputs": [],
   "source": [
    "scaler_1 = StandardScaler()\n",
    "\n",
    "norm_df_1 = train_df_1.copy()\n",
    "norm_df_1[NUM_FEATURE_NAMES] = scaler.fit_transform(norm_df_1[NUM_FEATURE_NAMES])\n",
    "\n",
    "train_df_1 = norm_df_1.copy()\n"
   ]
  },
  {
   "cell_type": "markdown",
   "id": "wound-caution",
   "metadata": {},
   "source": [
    "**Производим балансировку классов:**"
   ]
  },
  {
   "cell_type": "code",
   "execution_count": 49,
   "id": "trying-guitar",
   "metadata": {},
   "outputs": [],
   "source": [
    "df_for_balancing_1 = pd.concat([X_1_train, y_1_train], axis=1)\n",
    "\n",
    "df_for_balancing_1\n",
    "\n",
    "df_balanced_1 = balance_df_by_target(df_for_balancing_1, TARGET_NAME)\n"
   ]
  },
  {
   "cell_type": "code",
   "execution_count": 50,
   "id": "absent-glossary",
   "metadata": {},
   "outputs": [],
   "source": [
    "X_1_train = df_balanced_1.drop(columns=TARGET_NAME)\n",
    "y_1_train = df_balanced_1[TARGET_NAME]\n"
   ]
  },
  {
   "cell_type": "markdown",
   "id": "labeled-filling",
   "metadata": {},
   "source": [
    "**Обучаем модель CatBoost на выборке с учетом категориальных перименных:**"
   ]
  },
  {
   "cell_type": "code",
   "execution_count": 51,
   "id": "resistant-negative",
   "metadata": {},
   "outputs": [
    {
     "name": "stdout",
     "output_type": "stream",
     "text": [
      "TRAIN\n",
      "\n",
      "              precision    recall  f1-score   support\n",
      "\n",
      "           0       0.87      0.95      0.91      4046\n",
      "           1       0.93      0.82      0.87      3158\n",
      "\n",
      "    accuracy                           0.89      7204\n",
      "   macro avg       0.90      0.88      0.89      7204\n",
      "weighted avg       0.89      0.89      0.89      7204\n",
      "\n",
      "TEST\n",
      "\n",
      "              precision    recall  f1-score   support\n",
      "\n",
      "           0       0.80      0.86      0.83      1341\n",
      "           1       0.57      0.46      0.51       534\n",
      "\n",
      "    accuracy                           0.75      1875\n",
      "   macro avg       0.68      0.66      0.67      1875\n",
      "weighted avg       0.73      0.75      0.74      1875\n",
      "\n",
      "CONFUSION MATRIX\n",
      "\n",
      "col_0              0    1\n",
      "Credit Default           \n",
      "0               1156  185\n",
      "1                290  244\n"
     ]
    }
   ],
   "source": [
    "model_catb = catb.CatBoostClassifier(silent=True, random_state=21, cat_features=CAT_FEATURE_NAMES)\n",
    "model_catb.fit(X_1_train, y_1_train)\n",
    "\n",
    "y_1_train_pred = model_catb.predict(X_1_train)\n",
    "y_1_test_pred = model_catb.predict(X_1_test)\n",
    "\n",
    "get_classification_report(y_1_train, y_1_train_pred, y_1_test, y_1_test_pred)"
   ]
  },
  {
   "cell_type": "markdown",
   "id": "spiritual-telescope",
   "metadata": {},
   "source": [
    "#### **Вывод по CatBoost:**\n",
    "\n",
    "Очевидно, что \"скармливая\" алгоритму категориальные признаки, обучение модели происходит точнее."
   ]
  },
  {
   "cell_type": "markdown",
   "id": "sapphire-discrimination",
   "metadata": {},
   "source": [
    "### **Подбор параметров для финальной модели.**"
   ]
  },
  {
   "cell_type": "code",
   "execution_count": 52,
   "id": "intelligent-automation",
   "metadata": {},
   "outputs": [],
   "source": [
    "# Здесь должен был быть применен GridSearchCV, но т.к. работа над курсовым проектом велась в последний момент, выбрал параметры методом научного тыка."
   ]
  },
  {
   "cell_type": "code",
   "execution_count": 53,
   "id": "departmental-tracy",
   "metadata": {},
   "outputs": [
    {
     "name": "stdout",
     "output_type": "stream",
     "text": [
      "TRAIN\n",
      "\n",
      "              precision    recall  f1-score   support\n",
      "\n",
      "           0       0.87      0.95      0.91      4046\n",
      "           1       0.93      0.82      0.87      3158\n",
      "\n",
      "    accuracy                           0.89      7204\n",
      "   macro avg       0.90      0.88      0.89      7204\n",
      "weighted avg       0.89      0.89      0.89      7204\n",
      "\n",
      "TEST\n",
      "\n",
      "              precision    recall  f1-score   support\n",
      "\n",
      "           0       0.80      0.86      0.83      1341\n",
      "           1       0.57      0.46      0.51       534\n",
      "\n",
      "    accuracy                           0.75      1875\n",
      "   macro avg       0.68      0.66      0.67      1875\n",
      "weighted avg       0.73      0.75      0.74      1875\n",
      "\n",
      "CONFUSION MATRIX\n",
      "\n",
      "col_0              0    1\n",
      "Credit Default           \n",
      "0               1156  185\n",
      "1                290  244\n"
     ]
    }
   ],
   "source": [
    "final_model = catb.CatBoostClassifier(n_estimators=1500, max_depth=3, silent=True, random_state=11, cat_features=CAT_FEATURE_NAMES)\n",
    "\n",
    "final_model.fit(X_1_train, y_1_train)\n",
    "\n",
    "y_train_pred = final_model.predict(X_1_train)\n",
    "y_test_pred = final_model.predict(X_1_test)\n",
    "\n",
    "get_classification_report(y_1_train, y_1_train_pred, y_1_test, y_1_test_pred)"
   ]
  },
  {
   "cell_type": "markdown",
   "id": "previous-density",
   "metadata": {},
   "source": [
    "## **3. Подготовка тестового датасета**"
   ]
  },
  {
   "cell_type": "code",
   "execution_count": 54,
   "id": "under-avenue",
   "metadata": {},
   "outputs": [
    {
     "name": "stdout",
     "output_type": "stream",
     "text": [
      "<class 'pandas.core.frame.DataFrame'>\n",
      "RangeIndex: 2500 entries, 0 to 2499\n",
      "Data columns (total 16 columns):\n",
      " #   Column                        Non-Null Count  Dtype  \n",
      "---  ------                        --------------  -----  \n",
      " 0   Home Ownership                2500 non-null   object \n",
      " 1   Annual Income                 1987 non-null   float64\n",
      " 2   Years in current job          2414 non-null   object \n",
      " 3   Tax Liens                     2500 non-null   float64\n",
      " 4   Number of Open Accounts       2500 non-null   float64\n",
      " 5   Years of Credit History       2500 non-null   float64\n",
      " 6   Maximum Open Credit           2500 non-null   float64\n",
      " 7   Number of Credit Problems     2500 non-null   float64\n",
      " 8   Months since last delinquent  1142 non-null   float64\n",
      " 9   Bankruptcies                  2497 non-null   float64\n",
      " 10  Purpose                       2500 non-null   object \n",
      " 11  Term                          2500 non-null   object \n",
      " 12  Current Loan Amount           2500 non-null   float64\n",
      " 13  Current Credit Balance        2500 non-null   float64\n",
      " 14  Monthly Debt                  2500 non-null   float64\n",
      " 15  Credit Score                  1987 non-null   float64\n",
      "dtypes: float64(12), object(4)\n",
      "memory usage: 312.6+ KB\n"
     ]
    }
   ],
   "source": [
    "test_df.info()"
   ]
  },
  {
   "cell_type": "markdown",
   "id": "wicked-reaction",
   "metadata": {},
   "source": [
    "**Предообработка датасета:**"
   ]
  },
  {
   "cell_type": "code",
   "execution_count": 55,
   "id": "honest-aging",
   "metadata": {},
   "outputs": [
    {
     "name": "stdout",
     "output_type": "stream",
     "text": [
      "<class 'pandas.core.frame.DataFrame'>\n",
      "RangeIndex: 2500 entries, 0 to 2499\n",
      "Data columns (total 16 columns):\n",
      " #   Column                        Non-Null Count  Dtype  \n",
      "---  ------                        --------------  -----  \n",
      " 0   Home Ownership                2500 non-null   object \n",
      " 1   Annual Income                 2500 non-null   float64\n",
      " 2   Years in current job          2500 non-null   int32  \n",
      " 3   Tax Liens                     2500 non-null   float64\n",
      " 4   Number of Open Accounts       2500 non-null   float64\n",
      " 5   Years of Credit History       2500 non-null   float64\n",
      " 6   Maximum Open Credit           2500 non-null   float64\n",
      " 7   Number of Credit Problems     2500 non-null   float64\n",
      " 8   Months since last delinquent  2500 non-null   float64\n",
      " 9   Bankruptcies                  2500 non-null   float64\n",
      " 10  Purpose                       2500 non-null   object \n",
      " 11  Term                          2500 non-null   object \n",
      " 12  Current Loan Amount           2500 non-null   float64\n",
      " 13  Current Credit Balance        2500 non-null   float64\n",
      " 14  Monthly Debt                  2500 non-null   float64\n",
      " 15  Credit Score                  2500 non-null   float64\n",
      "dtypes: float64(12), int32(1), object(3)\n",
      "memory usage: 302.9+ KB\n"
     ]
    }
   ],
   "source": [
    "preprocessor = DataPreprocessing()\n",
    "test_df = preprocessor.transform(test_df)\n",
    "\n",
    "test_df.info()"
   ]
  },
  {
   "cell_type": "code",
   "execution_count": 56,
   "id": "raised-climb",
   "metadata": {},
   "outputs": [
    {
     "data": {
      "text/html": [
       "<div>\n",
       "<style scoped>\n",
       "    .dataframe tbody tr th:only-of-type {\n",
       "        vertical-align: middle;\n",
       "    }\n",
       "\n",
       "    .dataframe tbody tr th {\n",
       "        vertical-align: top;\n",
       "    }\n",
       "\n",
       "    .dataframe thead th {\n",
       "        text-align: right;\n",
       "    }\n",
       "</style>\n",
       "<table border=\"1\" class=\"dataframe\">\n",
       "  <thead>\n",
       "    <tr style=\"text-align: right;\">\n",
       "      <th></th>\n",
       "      <th>Home Ownership</th>\n",
       "      <th>Annual Income</th>\n",
       "      <th>Years in current job</th>\n",
       "      <th>Tax Liens</th>\n",
       "      <th>Number of Open Accounts</th>\n",
       "      <th>Years of Credit History</th>\n",
       "      <th>Maximum Open Credit</th>\n",
       "      <th>Number of Credit Problems</th>\n",
       "      <th>Months since last delinquent</th>\n",
       "      <th>Bankruptcies</th>\n",
       "      <th>Purpose</th>\n",
       "      <th>Term</th>\n",
       "      <th>Current Loan Amount</th>\n",
       "      <th>Current Credit Balance</th>\n",
       "      <th>Monthly Debt</th>\n",
       "      <th>Credit Score</th>\n",
       "    </tr>\n",
       "  </thead>\n",
       "  <tbody>\n",
       "    <tr>\n",
       "      <th>0</th>\n",
       "      <td>Rent</td>\n",
       "      <td>1178475.0</td>\n",
       "      <td>4</td>\n",
       "      <td>0.0</td>\n",
       "      <td>9.0</td>\n",
       "      <td>12.5</td>\n",
       "      <td>220968.0</td>\n",
       "      <td>0.0</td>\n",
       "      <td>70.0</td>\n",
       "      <td>0.0</td>\n",
       "      <td>debt consolidation</td>\n",
       "      <td>Short Term</td>\n",
       "      <td>162470.0</td>\n",
       "      <td>105906.0</td>\n",
       "      <td>6813.0</td>\n",
       "      <td>731.0</td>\n",
       "    </tr>\n",
       "    <tr>\n",
       "      <th>1</th>\n",
       "      <td>Rent</td>\n",
       "      <td>231838.0</td>\n",
       "      <td>1</td>\n",
       "      <td>0.0</td>\n",
       "      <td>6.0</td>\n",
       "      <td>32.7</td>\n",
       "      <td>55946.0</td>\n",
       "      <td>0.0</td>\n",
       "      <td>8.0</td>\n",
       "      <td>0.0</td>\n",
       "      <td>educational expenses</td>\n",
       "      <td>Short Term</td>\n",
       "      <td>78298.0</td>\n",
       "      <td>46037.0</td>\n",
       "      <td>2318.0</td>\n",
       "      <td>699.0</td>\n",
       "    </tr>\n",
       "    <tr>\n",
       "      <th>2</th>\n",
       "      <td>Home Mortgage</td>\n",
       "      <td>1152540.0</td>\n",
       "      <td>3</td>\n",
       "      <td>0.0</td>\n",
       "      <td>10.0</td>\n",
       "      <td>13.7</td>\n",
       "      <td>204600.0</td>\n",
       "      <td>0.0</td>\n",
       "      <td>0.0</td>\n",
       "      <td>0.0</td>\n",
       "      <td>debt consolidation</td>\n",
       "      <td>Short Term</td>\n",
       "      <td>200178.0</td>\n",
       "      <td>146490.0</td>\n",
       "      <td>18729.0</td>\n",
       "      <td>7260.0</td>\n",
       "    </tr>\n",
       "    <tr>\n",
       "      <th>3</th>\n",
       "      <td>Home Mortgage</td>\n",
       "      <td>1220313.0</td>\n",
       "      <td>10</td>\n",
       "      <td>0.0</td>\n",
       "      <td>16.0</td>\n",
       "      <td>17.0</td>\n",
       "      <td>456302.0</td>\n",
       "      <td>0.0</td>\n",
       "      <td>70.0</td>\n",
       "      <td>0.0</td>\n",
       "      <td>debt consolidation</td>\n",
       "      <td>Short Term</td>\n",
       "      <td>217382.0</td>\n",
       "      <td>213199.0</td>\n",
       "      <td>27559.0</td>\n",
       "      <td>739.0</td>\n",
       "    </tr>\n",
       "    <tr>\n",
       "      <th>4</th>\n",
       "      <td>Home Mortgage</td>\n",
       "      <td>2340952.0</td>\n",
       "      <td>6</td>\n",
       "      <td>0.0</td>\n",
       "      <td>11.0</td>\n",
       "      <td>23.6</td>\n",
       "      <td>1207272.0</td>\n",
       "      <td>0.0</td>\n",
       "      <td>0.0</td>\n",
       "      <td>0.0</td>\n",
       "      <td>debt consolidation</td>\n",
       "      <td>Long Term</td>\n",
       "      <td>777634.0</td>\n",
       "      <td>425391.0</td>\n",
       "      <td>42605.0</td>\n",
       "      <td>706.0</td>\n",
       "    </tr>\n",
       "    <tr>\n",
       "      <th>...</th>\n",
       "      <td>...</td>\n",
       "      <td>...</td>\n",
       "      <td>...</td>\n",
       "      <td>...</td>\n",
       "      <td>...</td>\n",
       "      <td>...</td>\n",
       "      <td>...</td>\n",
       "      <td>...</td>\n",
       "      <td>...</td>\n",
       "      <td>...</td>\n",
       "      <td>...</td>\n",
       "      <td>...</td>\n",
       "      <td>...</td>\n",
       "      <td>...</td>\n",
       "      <td>...</td>\n",
       "      <td>...</td>\n",
       "    </tr>\n",
       "    <tr>\n",
       "      <th>2495</th>\n",
       "      <td>Home Mortgage</td>\n",
       "      <td>1020053.0</td>\n",
       "      <td>10</td>\n",
       "      <td>0.0</td>\n",
       "      <td>14.0</td>\n",
       "      <td>29.1</td>\n",
       "      <td>559152.0</td>\n",
       "      <td>1.0</td>\n",
       "      <td>68.0</td>\n",
       "      <td>1.0</td>\n",
       "      <td>debt consolidation</td>\n",
       "      <td>Short Term</td>\n",
       "      <td>322366.0</td>\n",
       "      <td>162735.0</td>\n",
       "      <td>15046.0</td>\n",
       "      <td>745.0</td>\n",
       "    </tr>\n",
       "    <tr>\n",
       "      <th>2496</th>\n",
       "      <td>Home Mortgage</td>\n",
       "      <td>1178475.0</td>\n",
       "      <td>2</td>\n",
       "      <td>0.0</td>\n",
       "      <td>15.0</td>\n",
       "      <td>17.0</td>\n",
       "      <td>1737780.0</td>\n",
       "      <td>0.0</td>\n",
       "      <td>77.0</td>\n",
       "      <td>0.0</td>\n",
       "      <td>debt consolidation</td>\n",
       "      <td>Short Term</td>\n",
       "      <td>468512.0</td>\n",
       "      <td>1439269.0</td>\n",
       "      <td>32996.0</td>\n",
       "      <td>731.0</td>\n",
       "    </tr>\n",
       "    <tr>\n",
       "      <th>2497</th>\n",
       "      <td>Home Mortgage</td>\n",
       "      <td>1171806.0</td>\n",
       "      <td>2</td>\n",
       "      <td>0.0</td>\n",
       "      <td>48.0</td>\n",
       "      <td>12.8</td>\n",
       "      <td>1706430.0</td>\n",
       "      <td>0.0</td>\n",
       "      <td>0.0</td>\n",
       "      <td>0.0</td>\n",
       "      <td>debt consolidation</td>\n",
       "      <td>Short Term</td>\n",
       "      <td>430496.0</td>\n",
       "      <td>676438.0</td>\n",
       "      <td>36912.0</td>\n",
       "      <td>695.0</td>\n",
       "    </tr>\n",
       "    <tr>\n",
       "      <th>2498</th>\n",
       "      <td>Rent</td>\n",
       "      <td>723520.0</td>\n",
       "      <td>10</td>\n",
       "      <td>0.0</td>\n",
       "      <td>14.0</td>\n",
       "      <td>28.8</td>\n",
       "      <td>945780.0</td>\n",
       "      <td>0.0</td>\n",
       "      <td>0.0</td>\n",
       "      <td>0.0</td>\n",
       "      <td>debt consolidation</td>\n",
       "      <td>Short Term</td>\n",
       "      <td>257774.0</td>\n",
       "      <td>391248.0</td>\n",
       "      <td>13506.0</td>\n",
       "      <td>744.0</td>\n",
       "    </tr>\n",
       "    <tr>\n",
       "      <th>2499</th>\n",
       "      <td>Rent</td>\n",
       "      <td>1694439.0</td>\n",
       "      <td>10</td>\n",
       "      <td>0.0</td>\n",
       "      <td>12.0</td>\n",
       "      <td>18.4</td>\n",
       "      <td>1199748.0</td>\n",
       "      <td>1.0</td>\n",
       "      <td>72.0</td>\n",
       "      <td>0.0</td>\n",
       "      <td>debt consolidation</td>\n",
       "      <td>Long Term</td>\n",
       "      <td>763004.0</td>\n",
       "      <td>559531.0</td>\n",
       "      <td>23440.0</td>\n",
       "      <td>6820.0</td>\n",
       "    </tr>\n",
       "  </tbody>\n",
       "</table>\n",
       "<p>2500 rows × 16 columns</p>\n",
       "</div>"
      ],
      "text/plain": [
       "     Home Ownership  Annual Income  Years in current job  Tax Liens  \\\n",
       "0              Rent      1178475.0                     4        0.0   \n",
       "1              Rent       231838.0                     1        0.0   \n",
       "2     Home Mortgage      1152540.0                     3        0.0   \n",
       "3     Home Mortgage      1220313.0                    10        0.0   \n",
       "4     Home Mortgage      2340952.0                     6        0.0   \n",
       "...             ...            ...                   ...        ...   \n",
       "2495  Home Mortgage      1020053.0                    10        0.0   \n",
       "2496  Home Mortgage      1178475.0                     2        0.0   \n",
       "2497  Home Mortgage      1171806.0                     2        0.0   \n",
       "2498           Rent       723520.0                    10        0.0   \n",
       "2499           Rent      1694439.0                    10        0.0   \n",
       "\n",
       "      Number of Open Accounts  Years of Credit History  Maximum Open Credit  \\\n",
       "0                         9.0                     12.5             220968.0   \n",
       "1                         6.0                     32.7              55946.0   \n",
       "2                        10.0                     13.7             204600.0   \n",
       "3                        16.0                     17.0             456302.0   \n",
       "4                        11.0                     23.6            1207272.0   \n",
       "...                       ...                      ...                  ...   \n",
       "2495                     14.0                     29.1             559152.0   \n",
       "2496                     15.0                     17.0            1737780.0   \n",
       "2497                     48.0                     12.8            1706430.0   \n",
       "2498                     14.0                     28.8             945780.0   \n",
       "2499                     12.0                     18.4            1199748.0   \n",
       "\n",
       "      Number of Credit Problems  Months since last delinquent  Bankruptcies  \\\n",
       "0                           0.0                          70.0           0.0   \n",
       "1                           0.0                           8.0           0.0   \n",
       "2                           0.0                           0.0           0.0   \n",
       "3                           0.0                          70.0           0.0   \n",
       "4                           0.0                           0.0           0.0   \n",
       "...                         ...                           ...           ...   \n",
       "2495                        1.0                          68.0           1.0   \n",
       "2496                        0.0                          77.0           0.0   \n",
       "2497                        0.0                           0.0           0.0   \n",
       "2498                        0.0                           0.0           0.0   \n",
       "2499                        1.0                          72.0           0.0   \n",
       "\n",
       "                   Purpose        Term  Current Loan Amount  \\\n",
       "0       debt consolidation  Short Term             162470.0   \n",
       "1     educational expenses  Short Term              78298.0   \n",
       "2       debt consolidation  Short Term             200178.0   \n",
       "3       debt consolidation  Short Term             217382.0   \n",
       "4       debt consolidation   Long Term             777634.0   \n",
       "...                    ...         ...                  ...   \n",
       "2495    debt consolidation  Short Term             322366.0   \n",
       "2496    debt consolidation  Short Term             468512.0   \n",
       "2497    debt consolidation  Short Term             430496.0   \n",
       "2498    debt consolidation  Short Term             257774.0   \n",
       "2499    debt consolidation   Long Term             763004.0   \n",
       "\n",
       "      Current Credit Balance  Monthly Debt  Credit Score  \n",
       "0                   105906.0        6813.0         731.0  \n",
       "1                    46037.0        2318.0         699.0  \n",
       "2                   146490.0       18729.0        7260.0  \n",
       "3                   213199.0       27559.0         739.0  \n",
       "4                   425391.0       42605.0         706.0  \n",
       "...                      ...           ...           ...  \n",
       "2495                162735.0       15046.0         745.0  \n",
       "2496               1439269.0       32996.0         731.0  \n",
       "2497                676438.0       36912.0         695.0  \n",
       "2498                391248.0       13506.0         744.0  \n",
       "2499                559531.0       23440.0        6820.0  \n",
       "\n",
       "[2500 rows x 16 columns]"
      ]
     },
     "execution_count": 56,
     "metadata": {},
     "output_type": "execute_result"
    }
   ],
   "source": [
    "df_for_model = test_df\n",
    "df_for_model"
   ]
  },
  {
   "cell_type": "markdown",
   "id": "productive-anniversary",
   "metadata": {},
   "source": [
    "**Предсказание целевой переменной:**"
   ]
  },
  {
   "cell_type": "code",
   "execution_count": 57,
   "id": "genetic-harvard",
   "metadata": {},
   "outputs": [],
   "source": [
    "y_pred_output = final_model.predict(df_for_model)"
   ]
  },
  {
   "cell_type": "markdown",
   "id": "considerable-security",
   "metadata": {},
   "source": [
    "**Сохранение результата:**"
   ]
  },
  {
   "cell_type": "code",
   "execution_count": 58,
   "id": "after-recycling",
   "metadata": {},
   "outputs": [],
   "source": [
    "result = pd.DataFrame({'Id': np.arange(2500), 'Credit Default': y_pred_output})"
   ]
  },
  {
   "cell_type": "code",
   "execution_count": 59,
   "id": "familiar-collection",
   "metadata": {},
   "outputs": [],
   "source": [
    "RESULT_PATH = './KungurovEA_predictions.csv'\n",
    "result.to_csv(RESULT_PATH, index=False)"
   ]
  },
  {
   "cell_type": "code",
   "execution_count": 60,
   "id": "classical-villa",
   "metadata": {},
   "outputs": [
    {
     "data": {
      "text/html": [
       "<div>\n",
       "<style scoped>\n",
       "    .dataframe tbody tr th:only-of-type {\n",
       "        vertical-align: middle;\n",
       "    }\n",
       "\n",
       "    .dataframe tbody tr th {\n",
       "        vertical-align: top;\n",
       "    }\n",
       "\n",
       "    .dataframe thead th {\n",
       "        text-align: right;\n",
       "    }\n",
       "</style>\n",
       "<table border=\"1\" class=\"dataframe\">\n",
       "  <thead>\n",
       "    <tr style=\"text-align: right;\">\n",
       "      <th></th>\n",
       "      <th>Credit Default</th>\n",
       "    </tr>\n",
       "    <tr>\n",
       "      <th>Id</th>\n",
       "      <th></th>\n",
       "    </tr>\n",
       "  </thead>\n",
       "  <tbody>\n",
       "    <tr>\n",
       "      <th>0</th>\n",
       "      <td>0</td>\n",
       "    </tr>\n",
       "    <tr>\n",
       "      <th>1</th>\n",
       "      <td>1</td>\n",
       "    </tr>\n",
       "    <tr>\n",
       "      <th>2</th>\n",
       "      <td>1</td>\n",
       "    </tr>\n",
       "    <tr>\n",
       "      <th>3</th>\n",
       "      <td>0</td>\n",
       "    </tr>\n",
       "    <tr>\n",
       "      <th>4</th>\n",
       "      <td>0</td>\n",
       "    </tr>\n",
       "    <tr>\n",
       "      <th>...</th>\n",
       "      <td>...</td>\n",
       "    </tr>\n",
       "    <tr>\n",
       "      <th>2495</th>\n",
       "      <td>0</td>\n",
       "    </tr>\n",
       "    <tr>\n",
       "      <th>2496</th>\n",
       "      <td>1</td>\n",
       "    </tr>\n",
       "    <tr>\n",
       "      <th>2497</th>\n",
       "      <td>1</td>\n",
       "    </tr>\n",
       "    <tr>\n",
       "      <th>2498</th>\n",
       "      <td>0</td>\n",
       "    </tr>\n",
       "    <tr>\n",
       "      <th>2499</th>\n",
       "      <td>1</td>\n",
       "    </tr>\n",
       "  </tbody>\n",
       "</table>\n",
       "<p>2500 rows × 1 columns</p>\n",
       "</div>"
      ],
      "text/plain": [
       "      Credit Default\n",
       "Id                  \n",
       "0                  0\n",
       "1                  1\n",
       "2                  1\n",
       "3                  0\n",
       "4                  0\n",
       "...              ...\n",
       "2495               0\n",
       "2496               1\n",
       "2497               1\n",
       "2498               0\n",
       "2499               1\n",
       "\n",
       "[2500 rows x 1 columns]"
      ]
     },
     "execution_count": 60,
     "metadata": {},
     "output_type": "execute_result"
    }
   ],
   "source": [
    "SAMPLE = './KungurovEA_predictions.csv'\n",
    "df_sample = pd.read_csv(SAMPLE)\n",
    "\n",
    "predictions = pd.DataFrame(index=df_sample['Id'])\n",
    "\n",
    "predictions[TARGET_NAME] = y_pred_output\n",
    "predictions"
   ]
  },
  {
   "cell_type": "markdown",
   "id": "available-package",
   "metadata": {},
   "source": [
    "### **Заключение.**"
   ]
  },
  {
   "cell_type": "markdown",
   "id": "better-minneapolis",
   "metadata": {},
   "source": [
    "**Очевидно, что здесь должны быть выводы по сравнению различных алгоритмов, с перечислением их достоинств и недостатков.\n",
    "Но их не будет, т.к. проект выполнялся в последний момент и за один присест.\n",
    "В данном проекте не очень тщательно производилась предобработка признаков и генерация новых с формированием и проверкой гипотез.\n",
    "Так же подбор гиперпараметров для алгоритмов бустинга производился методом тыка, \n",
    "т.к. целью  первого прохода было получение минимально достаточных метрик качества, минимально рабочей модели.\n",
    "Конечно, хотелось бы столкнуть лбами XGBoost и CatBoost, подобрать гиперпараметры и применить регуляризацию.\n",
    "Единственный выод, который можно сделать в проекте, это, то что алгоритм CatBoost действительно показывает лучшие результаты прямо \"из коробки\".**"
   ]
  },
  {
   "cell_type": "code",
   "execution_count": null,
   "id": "fatty-dependence",
   "metadata": {},
   "outputs": [],
   "source": []
  }
 ],
 "metadata": {
  "kernelspec": {
   "display_name": "Python 3",
   "language": "python",
   "name": "python3"
  },
  "language_info": {
   "codemirror_mode": {
    "name": "ipython",
    "version": 3
   },
   "file_extension": ".py",
   "mimetype": "text/x-python",
   "name": "python",
   "nbconvert_exporter": "python",
   "pygments_lexer": "ipython3",
   "version": "3.8.5"
  }
 },
 "nbformat": 4,
 "nbformat_minor": 5
}
